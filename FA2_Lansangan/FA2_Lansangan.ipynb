{
 "cells": [
  {
   "cell_type": "markdown",
   "id": "ebf83817-16f1-4e53-8fc9-113fb858d0bd",
   "metadata": {},
   "source": [
    "<div style=\"text-align: center;\"> <h3>Numerical Analysis</h3>\n",
    "<h5>Formative Assessment 2</h5>\n",
    "<h5><u>By Romand Lansangan</u></h5>\n",
    "    </div>\n",
    "    \n",
    "---"
   ]
  },
  {
   "cell_type": "markdown",
   "id": "14c0df60-8fcc-4dc7-80a1-1a037559e0ef",
   "metadata": {},
   "source": [
    "# Machine Exercises\n",
    "\n",
    "Write your code, table of values, and final answer. (5 points each)\n",
    "\n",
    "---\n",
    "\n",
    "## 1. Neville’s Method\n",
    "\n",
    "Use Neville’s Method algorithm to generate the table of approximations for Lagrange interpolating polynomials of degree one, two, and three to approximate $f(0.43)$ if:\n",
    "\n",
    "- $f(0) = 1$\n",
    "- $f(0.25) = 1.64872$\n",
    "- $f(0.5) = 2.71828$\n",
    "- $f(0.75) = 4.48169$"
   ]
  },
  {
   "cell_type": "markdown",
   "id": "2081c8ef-efa7-4b44-8c12-b030374db3cd",
   "metadata": {},
   "source": [
    "#### Code Snippet"
   ]
  },
  {
   "cell_type": "code",
   "execution_count": 272,
   "id": "a40c49ea-99b2-4b1f-8a0e-cbe3d24d3660",
   "metadata": {},
   "outputs": [],
   "source": [
    "import numpy as np\n",
    "import pandas as pd\n",
    "\n",
    "def neville(given, x):\n",
    "    n=len(given)\n",
    "    matrix = np.zeros((n, n), dtype=float)\n",
    "\n",
    "    # add initial f(x)\n",
    "    for i in range(n):\n",
    "        matrix[i][0] = given[i][1]\n",
    "\n",
    "    # nevilles method\n",
    "    for r in range(1,n):\n",
    "        for c in range(1,r+1):\n",
    "            approx = (x-given[r-c][0])*matrix[r][c-1] - (x-given[r][0])*matrix[r-1][c-1]\n",
    "            mult = 1/(given[r][0] - given[r-c][0])\n",
    "            matrix[r][c] = approx*mult\n",
    "    \n",
    "    # turn to df\n",
    "    x_s = [x for x, y in given]\n",
    "    result = pd.DataFrame(matrix, index=x_s)\n",
    "    result = result.replace(0, \"\")\n",
    "    result.reset_index(names=\"x_n\", inplace=True)\n",
    "    return result"
   ]
  },
  {
   "cell_type": "code",
   "execution_count": 55,
   "id": "562603b9-cfa7-4b3a-95be-cb753c61ef53",
   "metadata": {},
   "outputs": [],
   "source": [
    "given = [(0, 1), (0.25,1.64872), (0.5, 2.71828), (0.75,4.48169)]\n",
    "x=0.43"
   ]
  },
  {
   "cell_type": "code",
   "execution_count": 57,
   "id": "769d84cb-f0de-493a-b39c-11e120913e8f",
   "metadata": {},
   "outputs": [
    {
     "data": {
      "text/html": [
       "<div>\n",
       "<style scoped>\n",
       "    .dataframe tbody tr th:only-of-type {\n",
       "        vertical-align: middle;\n",
       "    }\n",
       "\n",
       "    .dataframe tbody tr th {\n",
       "        vertical-align: top;\n",
       "    }\n",
       "\n",
       "    .dataframe thead th {\n",
       "        text-align: right;\n",
       "    }\n",
       "</style>\n",
       "<table border=\"1\" class=\"dataframe\">\n",
       "  <thead>\n",
       "    <tr style=\"text-align: right;\">\n",
       "      <th></th>\n",
       "      <th>x_n</th>\n",
       "      <th>0</th>\n",
       "      <th>1</th>\n",
       "      <th>2</th>\n",
       "      <th>3</th>\n",
       "    </tr>\n",
       "  </thead>\n",
       "  <tbody>\n",
       "    <tr>\n",
       "      <th>0</th>\n",
       "      <td>0.00</td>\n",
       "      <td>1.00000</td>\n",
       "      <td></td>\n",
       "      <td></td>\n",
       "      <td></td>\n",
       "    </tr>\n",
       "    <tr>\n",
       "      <th>1</th>\n",
       "      <td>0.25</td>\n",
       "      <td>1.64872</td>\n",
       "      <td>2.115798</td>\n",
       "      <td></td>\n",
       "      <td></td>\n",
       "    </tr>\n",
       "    <tr>\n",
       "      <th>2</th>\n",
       "      <td>0.50</td>\n",
       "      <td>2.71828</td>\n",
       "      <td>2.418803</td>\n",
       "      <td>2.376383</td>\n",
       "      <td></td>\n",
       "    </tr>\n",
       "    <tr>\n",
       "      <th>3</th>\n",
       "      <td>0.75</td>\n",
       "      <td>4.48169</td>\n",
       "      <td>2.224525</td>\n",
       "      <td>2.348863</td>\n",
       "      <td>2.360605</td>\n",
       "    </tr>\n",
       "  </tbody>\n",
       "</table>\n",
       "</div>"
      ],
      "text/plain": [
       "    x_n        0         1         2         3\n",
       "0  0.00  1.00000                              \n",
       "1  0.25  1.64872  2.115798                    \n",
       "2  0.50  2.71828  2.418803  2.376383          \n",
       "3  0.75  4.48169  2.224525  2.348863  2.360605"
      ]
     },
     "execution_count": 57,
     "metadata": {},
     "output_type": "execute_result"
    }
   ],
   "source": [
    "neville(given, x)"
   ]
  },
  {
   "cell_type": "markdown",
   "id": "52bb7648-50b5-4172-9a17-ab817590705e",
   "metadata": {},
   "source": [
    "---\n",
    "\n",
    "## 2. Newton’s Divided Differences\n",
    "\n",
    "Use the Newton’s Divided Differences algorithm to construct the interpolating polynomials of degree three and approximate $f(8.4)$ if:\n",
    "\n",
    "- $f(8.1) = 16.94410$\n",
    "- $f(8.3) = 17.56492$\n",
    "- $f(8.6) = 18.50515$\n",
    "- $f(8.7) = 18.82091$"
   ]
  },
  {
   "cell_type": "code",
   "execution_count": 286,
   "id": "4ddad759-3530-4521-88dd-b50b4233b911",
   "metadata": {},
   "outputs": [],
   "source": [
    "def newton_divided(given, x):\n",
    "    n=len(given)\n",
    "    matrix = np.zeros((n, n), dtype=float)\n",
    "\n",
    "    # add initial f(x)\n",
    "    for i in range(n):\n",
    "        matrix[i][0] = given[i][1]\n",
    "\n",
    "    # calculate for coeficients [F_{0,0}, F_{1,1}...]\n",
    "    for r in range(1,n):\n",
    "        for c in range(1,r+1):\n",
    "            num = matrix[r][c-1] - matrix[r-1][c-1]\n",
    "            denum = given[r][0] - given[r-c][0]\n",
    "            matrix[r][c] = num/denum\n",
    "    \n",
    "    # get diagonal of the coeficients values\n",
    "    diagonal = np.array([matrix[i][i] for i in range(n)])\n",
    "\n",
    "    \n",
    "    x_min_x_n = []\n",
    "    for r in range(1,n+1):\n",
    "        res = 1\n",
    "        for c in range(1,r):\n",
    "            res *= (x-given[c-1][0])\n",
    "        x_min_x_n.append(res)\n",
    "        \n",
    "    x_min_x_n = np.array(x_min_x_n) # should be [1,(x-x_0), (x-x_0)(x_x_1),...]\n",
    "\n",
    "    #multiply matrix for approximation\n",
    "    return (diagonal @ x_min_x_n.T)"
   ]
  },
  {
   "cell_type": "code",
   "execution_count": 288,
   "id": "a679544b-30cb-4d43-93f9-b35c9ba7f2fc",
   "metadata": {},
   "outputs": [],
   "source": [
    "given = [(8.1,16.94410), (8.3,17.56492), (8.6,18.50515), (8.7,18.82091)]\n",
    "x=8.4"
   ]
  },
  {
   "cell_type": "code",
   "execution_count": 290,
   "id": "b841b883-2715-4c93-b67c-15eb01d88c76",
   "metadata": {},
   "outputs": [
    {
     "data": {
      "text/plain": [
       "17.877142499999998"
      ]
     },
     "execution_count": 290,
     "metadata": {},
     "output_type": "execute_result"
    }
   ],
   "source": [
    "result = newton_divided(given, x)\n",
    "result"
   ]
  },
  {
   "cell_type": "markdown",
   "id": "71c38002-b993-4129-a460-811983122303",
   "metadata": {},
   "source": [
    "---\n",
    "\n",
    "Given the function $f(x) = x \\cos x - 2x^2 + 3x - 1$ and the following data:\n",
    "\n",
    "| $x$ | $f(x)$       | $f'(x)$    |\n",
    "|---------|------------------|----------------|\n",
    "| 0.1     | \\(-0.62049958\\)  | 3.58502082     |\n",
    "| 0.2     | \\(-0.28398668\\)  | 3.14033271     |\n",
    "| 0.3     | 0.00660095       | 2.66668043     |\n",
    "| 0.4     | 0.24842440       | 2.16529366     |\n",
    "\n",
    "---\n",
    "\n",
    "## 3. Hermite Interpolation\n",
    "\n",
    "Use Hermite Interpolation to construct an approximating polynomial to approximate $f(0.25)$ and find the absolute error."
   ]
  },
  {
   "cell_type": "code",
   "execution_count": 308,
   "id": "05890710-f450-42c6-b451-089299dc393a",
   "metadata": {},
   "outputs": [],
   "source": [
    "def hermite_coef(given):\n",
    "    n = len(given)\n",
    "    matrix_q = np.zeros((2*n+1, 2*n+1), dtype=float)\n",
    "    vector_z = np.zeros((2*n+1, 1), dtype=float)\n",
    "\n",
    "    #step 1-3\n",
    "    for i in range(n):\n",
    "        vector_z[2*i][0] = given[i][0]\n",
    "        vector_z[2*i+1][0] = given[i][0]\n",
    "        matrix_q[2*i][0] = given[i][1]\n",
    "        matrix_q[2*i+1][0] = given[i][1]\n",
    "        matrix_q[2*i+1][1] = given[i][2]\n",
    "        \n",
    "        if i != 0:\n",
    "            num = matrix_q[2*i][0] - matrix_q[2*i-1][0]\n",
    "            denum = vector_z[2*i][0] - vector_z[2*i-1][0]\n",
    "            matrix_q[2*i][1] = num / denum\n",
    "    \n",
    "    #step 4\n",
    "    for i in range(2, 2*n+1):\n",
    "        for j in range(2, i+1):\n",
    "            num = matrix_q[i][j-1] - matrix_q[i-1][j-1]\n",
    "            denum = vector_z[i][0] - vector_z[i-j][0]\n",
    "            matrix_q[i][j] = num / denum\n",
    "\n",
    "    # extract diagonal values for coefs\n",
    "    diagonal = np.array([matrix_q[i][i] for i in range(2*n+1)])\n",
    "\n",
    "    return diagonal"
   ]
  },
  {
   "cell_type": "code",
   "execution_count": 310,
   "id": "d3c9d6fe-bf30-4b98-8436-8545f0cf3a69",
   "metadata": {},
   "outputs": [],
   "source": [
    "# evaluate hermite\n",
    "def hermite_approx(coefs, x, x_vals : list):\n",
    "    result = coefs[0]\n",
    "    product = 1.0\n",
    "    x_vals = [x for x,y,z in given]    \n",
    "    for i in range(1, 2*n+1):\n",
    "        product *= (x - x_vals[(i-1)//2])\n",
    "        result += coefs[i] * product\n",
    "    return result"
   ]
  },
  {
   "cell_type": "code",
   "execution_count": 364,
   "id": "ef8adcb8-c874-4daf-8b58-87ebb98277d1",
   "metadata": {},
   "outputs": [
    {
     "data": {
      "text/plain": [
       "-0.13277189859765623"
      ]
     },
     "execution_count": 364,
     "metadata": {},
     "output_type": "execute_result"
    }
   ],
   "source": [
    "given = [(0.1,-0.62049958,3.58502082),(0.2,-0.28398668,3.14033271),(0.3,0.00660095,2.66668043),(0.4,0.24842240,2.16529366)]\n",
    "x=0.25\n",
    "coefs = hermite_coef(given)\n",
    "approximation = hermite_approx(coefs=coefs, x=x, x_vals=[x for x, y, z in given])\n",
    "approximation"
   ]
  },
  {
   "cell_type": "markdown",
   "id": "dbffc10b-1821-4f0a-9d36-7f3ccb762bfc",
   "metadata": {},
   "source": [
    "### Checking\n",
    "\n",
    "#### $f(x) = x \\cos x - 2x^2 + 3x - 1$"
   ]
  },
  {
   "cell_type": "code",
   "execution_count": 366,
   "id": "24421987-105b-4132-855e-d67bb4449f85",
   "metadata": {},
   "outputs": [
    {
     "data": {
      "text/plain": [
       "-0.13277189457233884"
      ]
     },
     "execution_count": 366,
     "metadata": {},
     "output_type": "execute_result"
    }
   ],
   "source": [
    "eq = \"x*cos(x)-2*x**2 + 3*x -1\"\n",
    "p_0 = 0.25\n",
    "true_val = sip.eq_solver(eq, p_0)\n",
    "true_val"
   ]
  },
  {
   "cell_type": "code",
   "execution_count": 368,
   "id": "4983832d-cb1c-441b-8423-574544dc621b",
   "metadata": {
    "scrolled": true
   },
   "outputs": [
    {
     "name": "stdout",
     "output_type": "stream",
     "text": [
      "Absolute error:  4.025317384970251e-09\n"
     ]
    }
   ],
   "source": [
    "abs_er = abs(true_val - approximation)\n",
    "print(\"Absolute error: \", abs_er)"
   ]
  },
  {
   "cell_type": "markdown",
   "id": "60da1b43-3b3d-4561-98b6-7b362599f7e7",
   "metadata": {},
   "source": [
    "---\n",
    "\n",
    "## 4. Natural Cubic Spline\n",
    "\n",
    "Construct the natural cubic spline and approximate $f(0.25)$ and $f'(0.25)$. Find the absolute error."
   ]
  },
  {
   "cell_type": "code",
   "execution_count": 318,
   "id": "22b9f5a4-7279-4f61-aaf0-5a027da04876",
   "metadata": {},
   "outputs": [
    {
     "name": "stdout",
     "output_type": "stream",
     "text": [
      "a_j: [-0.62049958, -0.28398668, 0.00660095]\n",
      "b_j: [3.4550856 3.1852158 2.6170671]\n",
      "c_j: [ 0.       -2.698698 -2.982789]\n",
      "d_j: [-8.99566 -0.94697  9.94263]\n"
     ]
    }
   ],
   "source": [
    "def cubic_spline_coef(given):\n",
    "    x = [x for x,y in given]\n",
    "    a = [y for x,y in given]\n",
    "    \n",
    "    n = len(x) - 1\n",
    "    alpha = np.zeros(n)\n",
    "    l = np.zeros(n+1)\n",
    "    mu = np.zeros(n+1)\n",
    "    z = np.zeros(n+1)\n",
    "    c = np.zeros(n+1)\n",
    "    b = np.zeros(n)\n",
    "    d = np.zeros(n)\n",
    "\n",
    "    #step 1\n",
    "    h = np.diff(x)\n",
    "\n",
    "    #step 2\n",
    "    for i in range(1, n):\n",
    "        alpha[i] = (3/h[i] * (a[i+1] - a[i])) - (3/h[i-1] * (a[i] - a[i-1]))\n",
    "\n",
    "    #step 3\n",
    "    l[0] = 1\n",
    "    mu[0] = 0\n",
    "    z[0] = 0\n",
    "\n",
    "    #step 4\n",
    "    for i in range(1, n):\n",
    "        l[i] = 2 * (x[i+1] - x[i-1]) - h[i-1] * mu[i-1]\n",
    "        mu[i] = h[i] / l[i]\n",
    "        z[i] = (alpha[i] - h[i-1] * z[i-1]) / l[i]\n",
    "\n",
    "    #step 5\n",
    "    l[n] = 1\n",
    "    z[n] = 0\n",
    "    c[n] = 0\n",
    "\n",
    "    #step 6\n",
    "    for j in range(n-1, -1, -1):\n",
    "        c[j] = z[j] - mu[j] * c[j+1]\n",
    "        b[j] = (a[j+1] - a[j]) / h[j] - h[j] * (c[j+1] + 2 * c[j]) / 3\n",
    "        d[j] = (c[j+1] - c[j]) / (3 * h[j])\n",
    "\n",
    "    return a[:-1], b, c[:-1], d\n",
    "\n",
    "\n",
    "given = [(0.1,-0.62049958,3.58502082),(0.2,-0.28398668,3.14033271),(0.3,0.00660095,2.66668043),(0.4,0.24842240,2.16529366)]\n",
    "a_j, b_j, c_j, d_j = cubic_spline_coef([(x, y) for x,y,z in given])\n",
    "print(\"a_j:\", a_j)\n",
    "print(\"b_j:\", b_j)\n",
    "print(\"c_j:\", c_j)\n",
    "print(\"d_j:\", d_j)"
   ]
  },
  {
   "cell_type": "code",
   "execution_count": 262,
   "id": "e4995369-9523-481b-9cbc-fe86821d3b4f",
   "metadata": {},
   "outputs": [],
   "source": [
    "def cubic_spline_approx(x, x_values, a_j, b_j, c_j, d_j):\n",
    "    x_values = np.sort(x_values)\n",
    "    j = np.searchsorted(x_values, x) - 1\n",
    "    if j < 0:\n",
    "        j = 0\n",
    "    elif j >= len(x_values) - 1:\n",
    "        j = len(x_values) - 2\n",
    "    \n",
    "    dx = x - x_values[j]\n",
    "    S_x = a_j[j] + b_j[j] * dx + c_j[j] * dx**2 + d_j[j] * dx**3\n",
    "    \n",
    "    S_prime_x = b_j[j] + 2 * c_j[j] * dx + 3 * d_j[j] * dx**2\n",
    "    \n",
    "    return S_x, S_prime_x"
   ]
  },
  {
   "cell_type": "code",
   "execution_count": 320,
   "id": "4ec47ac1-7715-4374-bfef-62c81e76f55a",
   "metadata": {
    "scrolled": true
   },
   "outputs": [
    {
     "name": "stdout",
     "output_type": "stream",
     "text": [
      "Approximated f(0.25) = -0.13159100624999998\n",
      "Approximated f'(0.25) = 2.9082437250000006\n"
     ]
    }
   ],
   "source": [
    "x_val = np.sort([x for x,y,z in given])\n",
    "x=0.25\n",
    "S_x, S_prime_x = cubic_spline_approx(x=x, x_values=x_val, a_j=a_j, b_j=b_j, c_j=c_j, d_j=d_j)\n",
    "print(f\"Approximated f({x}) = {S_x}\")\n",
    "print(f\"Approximated f'({x}) = {S_prime_x}\")"
   ]
  },
  {
   "cell_type": "markdown",
   "id": "2ada8fe2-7063-4d3e-86b8-5f67320d246f",
   "metadata": {},
   "source": [
    "### Checking\n",
    "\n",
    "#### $f(x) = x \\cos x - 2x^2 + 3x - 1$"
   ]
  },
  {
   "cell_type": "code",
   "execution_count": 376,
   "id": "67c0f20a-d894-4bab-ad94-45432dd3eb55",
   "metadata": {},
   "outputs": [
    {
     "data": {
      "text/plain": [
       "-0.13277189457233884"
      ]
     },
     "execution_count": 376,
     "metadata": {},
     "output_type": "execute_result"
    }
   ],
   "source": [
    "eq = \"x*cos(x)-2*x**2 + 3*x -1\"\n",
    "p_0 = 0.25\n",
    "true_val = sip.eq_solver(eq, p_0)\n",
    "true_val"
   ]
  },
  {
   "cell_type": "code",
   "execution_count": 378,
   "id": "93634306-d7b2-4e2e-9bd2-28a585a5500d",
   "metadata": {
    "scrolled": true
   },
   "outputs": [
    {
     "name": "stdout",
     "output_type": "stream",
     "text": [
      "Absolute error:  8.322259323384484e-05\n"
     ]
    }
   ],
   "source": [
    "abs_er = abs(true_val - S_x)\n",
    "print(\"Absolute error: \", abs_er)"
   ]
  },
  {
   "cell_type": "markdown",
   "id": "5bae182d-619b-456f-8746-04b7063856ee",
   "metadata": {},
   "source": [
    "#### $f'(x) = -x \\sin x + cosx - 4x + 3$"
   ]
  },
  {
   "cell_type": "code",
   "execution_count": 382,
   "id": "c13005d4-ad9e-4a1e-9e38-3af13e325f14",
   "metadata": {},
   "outputs": [
    {
     "data": {
      "text/plain": [
       "2.907061431897014"
      ]
     },
     "execution_count": 382,
     "metadata": {},
     "output_type": "execute_result"
    }
   ],
   "source": [
    "eq = \"-x*sin(x) + cos(x) - 4*x + 3\"\n",
    "p_0 = 0.25\n",
    "true_val = sip.eq_solver(eq, p_0)\n",
    "true_val"
   ]
  },
  {
   "cell_type": "code",
   "execution_count": 384,
   "id": "9492308e-b20f-4f83-98fc-6185bfa7c5e4",
   "metadata": {},
   "outputs": [
    {
     "name": "stdout",
     "output_type": "stream",
     "text": [
      "Absolute error:  0.0010038263537266445\n"
     ]
    }
   ],
   "source": [
    "abs_er = abs(true_val - S_prime_x)\n",
    "print(\"Absolute error: \", abs_er)"
   ]
  },
  {
   "cell_type": "markdown",
   "id": "ea369e1d-d6b0-4750-839d-1a46fac46114",
   "metadata": {},
   "source": [
    "---\n",
    "\n",
    "## 5. Clamped Cubic Spline\n",
    "\n",
    "Construct the clamped cubic spline and approximate $f(0.25)$ and $f'(0.25)$. Find the absolute error.\n"
   ]
  },
  {
   "cell_type": "code",
   "execution_count": 326,
   "id": "0a14751e-ea48-446c-a079-c5be22307366",
   "metadata": {},
   "outputs": [
    {
     "name": "stdout",
     "output_type": "stream",
     "text": [
      "a_j: [-0.62049958, -0.28398668, 0.00660095]\n",
      "b_j: [3.58502082 3.1416661  2.66133066]\n",
      "c_j: [-2.16320744 -2.27033971 -2.5330147 ]\n",
      "d_j: [-0.35710757 -0.8755833   1.01853077]\n"
     ]
    }
   ],
   "source": [
    "def clamped_cubic_spline_coef(given):\n",
    "    x = [x for x, y, z in given]\n",
    "    a = [y for x, y, z in given]\n",
    "    fp0 = given[0][2] \n",
    "    fpn = given[-1][2] \n",
    "    \n",
    "    n = len(x) - 1\n",
    "    l = np.zeros(n + 1)\n",
    "    mu = np.zeros(n + 1)\n",
    "    z = np.zeros(n + 1)\n",
    "    c = np.zeros(n + 1)\n",
    "    b = np.zeros(n)\n",
    "    d = np.zeros(n)\n",
    "\n",
    "    #step 1\n",
    "    h = np.diff(x)\n",
    "\n",
    "    #step 2\n",
    "    alpha = np.zeros(n + 1)\n",
    "    alpha[0] = (3 / h[0]) * (a[1] - a[0]) - 3 * fp0 \n",
    "    alpha[n] = 3 * fpn - (3 / h[-1]) * (a[n] - a[n - 1])  \n",
    "\n",
    "    #step 3\n",
    "    for i in range(1, n):\n",
    "        alpha[i] = (3 / h[i]) * (a[i + 1] - a[i]) - (3 / h[i - 1]) * (a[i] - a[i - 1])\n",
    "    \n",
    "    #step 4\n",
    "    l[0] = 2 * h[0]  \n",
    "    mu[0] = 0.5\n",
    "    z[0] = alpha[0] / l[0]\n",
    "\n",
    "    #step 5\n",
    "    for i in range(1, n):  \n",
    "        l[i] = 2 * (x[i + 1] - x[i - 1]) - h[i - 1] * mu[i - 1]\n",
    "        mu[i] = h[i] / l[i]\n",
    "        z[i] = (alpha[i] - h[i - 1] * z[i - 1]) / l[i]\n",
    "\n",
    "    #step 6\n",
    "    l[n] = h[-1] * (2 - mu[-1])  \n",
    "    z[n] = (alpha[n] - h[-1] * z[n - 1]) / l[n]\n",
    "    c[n] = z[n]\n",
    "\n",
    "    #step 7\n",
    "    for j in range(n - 1, -1, -1): \n",
    "        c[j] = z[j] - mu[j] * c[j + 1]\n",
    "        b[j] = (a[j + 1] - a[j]) / h[j] - h[j] * (c[j + 1] + 2 * c[j]) / 3\n",
    "        d[j] = (c[j + 1] - c[j]) / (3 * h[j])\n",
    "    \n",
    "    return a[:-1], b, c[:-1], d\n",
    "\n",
    "\n",
    "given = [(0.1, -0.62049958, 3.58502082), (0.2, -0.28398668, 3.14033271), (0.3, 0.00660095, 2.66668043), (0.4, 0.24842240, 2.16529366)]\n",
    "x_val = np.sort([x for x, y, z in given])\n",
    "x = 0.25\n",
    "\n",
    "\n",
    "a_j, b_j, c_j, d_j = clamped_cubic_spline_coef(given)\n",
    "print(\"a_j:\", a_j)\n",
    "print(\"b_j:\", b_j)\n",
    "print(\"c_j:\", c_j)\n",
    "print(\"d_j:\", d_j)"
   ]
  },
  {
   "cell_type": "code",
   "execution_count": 386,
   "id": "f11a55b7-c633-479f-b01f-f06ea03ccb3f",
   "metadata": {},
   "outputs": [
    {
     "name": "stdout",
     "output_type": "stream",
     "text": [
      "Approximated f(0.25) = -0.132688671979105\n",
      "Approximated f'(0.25) = 2.9080652582507405\n"
     ]
    }
   ],
   "source": [
    "# use same evaluation method as 4\n",
    "S_x, S_prime_x = cubic_spline_approx(x=x, x_values=x_val, a_j=a_j, b_j=b_j, c_j=c_j, d_j=d_j)\n",
    "print(f\"Approximated f({x}) = {S_x}\")\n",
    "print(f\"Approximated f'({x}) = {S_prime_x}\")"
   ]
  },
  {
   "cell_type": "markdown",
   "id": "ae92ab88-337a-4d3c-a754-344398917101",
   "metadata": {},
   "source": [
    "### Checking\n",
    "\n",
    "#### $f(x) = x \\cos x - 2x^2 + 3x - 1$"
   ]
  },
  {
   "cell_type": "code",
   "execution_count": 388,
   "id": "e1501fcc-2064-478e-9867-7b119e3839db",
   "metadata": {},
   "outputs": [
    {
     "data": {
      "text/plain": [
       "-0.13277189457233884"
      ]
     },
     "execution_count": 388,
     "metadata": {},
     "output_type": "execute_result"
    }
   ],
   "source": [
    "eq = \"x*cos(x)-2*x**2 + 3*x -1\"\n",
    "p_0 = 0.25\n",
    "true_val = sip.eq_solver(eq, p_0)\n",
    "true_val"
   ]
  },
  {
   "cell_type": "code",
   "execution_count": 390,
   "id": "53072e7a-0de6-467e-a044-dd1e8e1fd543",
   "metadata": {},
   "outputs": [
    {
     "name": "stdout",
     "output_type": "stream",
     "text": [
      "Absolute error:  8.322259323384484e-05\n"
     ]
    }
   ],
   "source": [
    "abs_er = abs(true_val - S_x)\n",
    "print(\"Absolute error: \", abs_er)"
   ]
  },
  {
   "cell_type": "markdown",
   "id": "67658e1f-c7f5-467e-889c-50ebcb54dd06",
   "metadata": {},
   "source": [
    "#### $f'(x) = -x \\sin x + cosx - 4x + 3$"
   ]
  },
  {
   "cell_type": "code",
   "execution_count": 392,
   "id": "80c03b23-3ed8-4970-bd98-79312defac5e",
   "metadata": {},
   "outputs": [
    {
     "data": {
      "text/plain": [
       "2.907061431897014"
      ]
     },
     "execution_count": 392,
     "metadata": {},
     "output_type": "execute_result"
    }
   ],
   "source": [
    "eq = \"-x*sin(x) + cos(x) - 4*x + 3\"\n",
    "p_0 = 0.25\n",
    "true_val = sip.eq_solver(eq, p_0)\n",
    "true_val"
   ]
  },
  {
   "cell_type": "code",
   "execution_count": 394,
   "id": "885cc04c-991b-4c9e-8a42-061fe5a09ea8",
   "metadata": {},
   "outputs": [
    {
     "name": "stdout",
     "output_type": "stream",
     "text": [
      "Absolute error:  0.0010038263537266445\n"
     ]
    }
   ],
   "source": [
    "abs_er = abs(true_val - S_prime_x)\n",
    "print(\"Absolute error: \", abs_er)"
   ]
  },
  {
   "cell_type": "markdown",
   "id": "e6de5931-57cb-4ba3-909a-6b643b4fdf2e",
   "metadata": {},
   "source": [
    "## Code for function evaluation"
   ]
  },
  {
   "cell_type": "code",
   "execution_count": 339,
   "id": "81c5b2f4-b13d-4cb2-a699-f17d17796f4b",
   "metadata": {},
   "outputs": [],
   "source": [
    "import math\n",
    "import regex\n",
    "import pandas as pd\n",
    "\n",
    "class Sipnayan:\n",
    "    def __init__(self, math_object, regex, pd):\n",
    "        self.math_object = math_object\n",
    "        self.reg = regex\n",
    "        self.pd = pd\n",
    "\n",
    "    def number_solver(self, equation):\n",
    "        return eval(equation)\n",
    "    \n",
    "    def eq_solver(self, equation, var_val, var=\"x\"):\n",
    "        \"\"\"\"var != e\n",
    "        Note to future romand: make varaible a list instead for equations beyond 2d\n",
    "        \"\"\"\n",
    "        # print(f\"Original: {equation}\")\n",
    "        equation = equation.replace(var, str(var_val))\n",
    "        # print(f\"Parsed: {equation}\")\n",
    "        # Check for other variable other than specified var\n",
    "        if (self.check_for_other_var(equation, var)):\n",
    "            return f\"Letters detected aside from independent variable ({var})\"\n",
    "        operations = [\"e\", \"cos\", \"sin\", \"tan\", \"ln\"]\n",
    "        if any(operation in equation for operation in operations):\n",
    "            return eval(self.nested_handler(equation))\n",
    "        return self.number_solver(equation)\n",
    "\n",
    "    def trigo(self, trig_op, arg):\n",
    "        match str(trig_op):\n",
    "            case \"cos\":\n",
    "                return self.math_object.cos(arg)\n",
    "            case \"sin\":\n",
    "                return self.math_object.sin(arg)\n",
    "            case \"tan\":\n",
    "                return self.math_object.tan(arg)\n",
    "            case default:\n",
    "                return \"invalid argument\"\n",
    "                \n",
    "    def exp_solve(self, arg):\n",
    "        \"\"\"For e^x with x as arg\"\"\"\n",
    "        return self.math_object.exp(arg)\n",
    "\n",
    "    def ln_solve(self, arg):\n",
    "        return self.math_object.log(arg)\n",
    "    \n",
    "    def nested_handler(self, equation):\n",
    "        operations = [\"e\\\\^\", \"cos\", \"sin\", \"tan\", \"ln\"]\n",
    "        ops = [\"e\", \"cos\", \"sin\", \"tan\", \"ln\"]\n",
    "        # print(f\"Processing equation: {equation}\")\n",
    "        \n",
    "        pat = rf'({\"|\".join(operations)})\\(((?:[^\\(\\)]+|(?R))*)\\)'\n",
    "        # print(f\"Regex pattern: {pat}\")\n",
    "        \n",
    "        while any(operation in equation for operation in ops):\n",
    "            match = regex.search(pat, equation)\n",
    "            if not match:\n",
    "                break\n",
    "\n",
    "            opp = match.group(1)\n",
    "            ovr_expression = match.group(0)  \n",
    "            argument = match.group(2) \n",
    "            # print(f\"Matched operation: {ovr_expression}, Argument: {argument}\")\n",
    "    \n",
    "            if any(operation in argument for operation in ops):\n",
    "                argument = self.nested_handler(argument)\n",
    "    \n",
    "            equation = self.special_operations(opp, ovr_expression, argument, equation)\n",
    "            # print(f\"Updated equation: {equation}\")\n",
    "        \n",
    "        return equation\n",
    "            \n",
    "    def special_operations(self, opp, ovr_expression, argument, equation):\n",
    "        # print(f\"Processing {opp} with argument: {argument}\")\n",
    "        try:\n",
    "            if \"e\" in opp:\n",
    "                result = self.exp_solve(eval(argument))\n",
    "            elif \"ln\" in opp:\n",
    "                result = self.ln_solve(eval(argument))\n",
    "            else:\n",
    "                result = self.trigo(opp, eval(argument))\n",
    "        except Exception as e:\n",
    "            print(f\"Error in {opp}: {e}\")\n",
    "            return equation\n",
    "    \n",
    "        updated_equation = equation.replace(ovr_expression, str(result))\n",
    "        return updated_equation\n",
    "\n",
    "\n",
    "\n",
    "    def check_for_other_var(self, equation, var):\n",
    "        remove = ['cos', 'sin', 'tan', 'e', \"ln\"]\n",
    "        for opp in remove:\n",
    "            equation = equation.replace(opp,\"\")\n",
    "        for i in equation:\n",
    "            if i.isalpha() and i != var:\n",
    "                return True\n",
    "        return False\n",
    "\n",
    "sip = Sipnayan(math, regex, pd)"
   ]
  }
 ],
 "metadata": {
  "kernelspec": {
   "display_name": "Python 3 (ipykernel)",
   "language": "python",
   "name": "python3"
  },
  "language_info": {
   "codemirror_mode": {
    "name": "ipython",
    "version": 3
   },
   "file_extension": ".py",
   "mimetype": "text/x-python",
   "name": "python",
   "nbconvert_exporter": "python",
   "pygments_lexer": "ipython3",
   "version": "3.12.3"
  }
 },
 "nbformat": 4,
 "nbformat_minor": 5
}
