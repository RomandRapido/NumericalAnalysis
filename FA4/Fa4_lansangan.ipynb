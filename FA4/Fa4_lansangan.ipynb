{
 "cells": [
  {
   "cell_type": "markdown",
   "id": "e085bb81",
   "metadata": {},
   "source": [
    "### Numerical Analysis\n",
    "(Formative Assessment 4)\n",
    "\n",
    "**Romand Lansangan**\n",
    "\n",
    "---"
   ]
  },
  {
   "cell_type": "code",
   "execution_count": 8,
   "id": "5e00333f",
   "metadata": {},
   "outputs": [],
   "source": [
    "import numpy as np \n",
    "import pandas as pd"
   ]
  },
  {
   "cell_type": "markdown",
   "id": "bc977add",
   "metadata": {},
   "source": [
    "## $\\int_0^2 x^2 \\ln(x^2 + 1) dx$ using $h = 0.25$. \n",
    "\n",
    "The interval is $[a, b] = [0, 2]$, and the number of subintervals is $n = \\frac{b-a}{h} = \\frac{2-0}{0.25} = 8$.\n",
    "\n",
    "$x_j = a + jh$ for each $j=0,1, . . . , n$ "
   ]
  },
  {
   "cell_type": "code",
   "execution_count": 14,
   "id": "1ff854ac",
   "metadata": {},
   "outputs": [
    {
     "data": {
      "text/plain": [
       "array([0.  , 0.25, 0.5 , 0.75, 1.  , 1.25, 1.5 , 1.75, 2.  ])"
      ]
     },
     "execution_count": 14,
     "metadata": {},
     "output_type": "execute_result"
    }
   ],
   "source": [
    "n = 8\n",
    "h_s = np.linspace(0, 2, n+1)\n",
    "h_s"
   ]
  },
  {
   "cell_type": "markdown",
   "id": "4a40b1c8",
   "metadata": {},
   "source": [
    "f(x_j)"
   ]
  },
  {
   "cell_type": "code",
   "execution_count": 17,
   "id": "0ffa5a52",
   "metadata": {},
   "outputs": [
    {
     "data": {
      "text/plain": [
       "0    0.000000\n",
       "1    0.003789\n",
       "2    0.055786\n",
       "3    0.251036\n",
       "4    0.693147\n",
       "5    1.470286\n",
       "6    2.651974\n",
       "7    4.293008\n",
       "8    6.437752\n",
       "dtype: float64"
      ]
     },
     "execution_count": 17,
     "metadata": {},
     "output_type": "execute_result"
    }
   ],
   "source": [
    "eq = \"(x**2) * ln(x**2 + 1)\"\n",
    "\n",
    "fh = [sip.eq_solver(eq, h) for h in h_s]\n",
    "fh_ = pd.Series(fh)\n",
    "fh_"
   ]
  },
  {
   "cell_type": "markdown",
   "id": "baa1047c",
   "metadata": {},
   "source": [
    "### Composite Trapezoidal Rule\n",
    "\n",
    "Recall that the formula for Composite Trapezoidal Rule is:\n",
    "\n",
    "$$\\int_a^b f(x) dx \\approx \\frac{h}{2} [f(x_0) + 2\\sum_{j=1}^{n-1} f(x_j) + f(x_n)]$$\n",
    "\n"
   ]
  },
  {
   "cell_type": "markdown",
   "id": "e5e29592",
   "metadata": {},
   "source": [
    "\n",
    "With $h=0.25$ and $n=8$; \n",
    "\n",
    "$$\n",
    "\\int_0^2 x^2 \\ln(x^2 + 1) dx \\approx \\frac{0.25}{2} [f(a) + 2\\sum_{j=1}^{7} f(x_j) + f(b)]\n",
    "$$\n",
    "\n",
    "Lets start with $ 2\\sum_{j=1}^{n-1} f(j)$"
   ]
  },
  {
   "cell_type": "markdown",
   "id": "d83dd102",
   "metadata": {},
   "source": [
    "$$ 2\\sum_{j=1}^{7} f(x_j)$$"
   ]
  },
  {
   "cell_type": "code",
   "execution_count": 18,
   "id": "25b03484",
   "metadata": {},
   "outputs": [
    {
     "data": {
      "text/plain": [
       "1    0.003789\n",
       "2    0.055786\n",
       "3    0.251036\n",
       "4    0.693147\n",
       "5    1.470286\n",
       "6    2.651974\n",
       "7    4.293008\n",
       "dtype: float64"
      ]
     },
     "execution_count": 18,
     "metadata": {},
     "output_type": "execute_result"
    }
   ],
   "source": [
    "first_ind = list(range(1,8))\n",
    "\n",
    "first_ = fh_[first_ind]\n",
    "first_"
   ]
  },
  {
   "cell_type": "code",
   "execution_count": 19,
   "id": "78af91e0",
   "metadata": {},
   "outputs": [
    {
     "data": {
      "text/plain": [
       "18.83805374434219"
      ]
     },
     "execution_count": 19,
     "metadata": {},
     "output_type": "execute_result"
    }
   ],
   "source": [
    "first_sum = first_.sum() * 2\n",
    "first_sum"
   ]
  },
  {
   "cell_type": "markdown",
   "id": "b019ffcc",
   "metadata": {},
   "source": [
    "$$\n",
    "\\int_0^2 x^2 \\ln(x^2 + 1) dx \\approx \\frac{0.25}{2} [f(a) + 2\\sum_{j=1}^{7} f(x_j) + f(b)]\n",
    "$$"
   ]
  },
  {
   "cell_type": "code",
   "execution_count": 20,
   "id": "f903b9fb",
   "metadata": {},
   "outputs": [
    {
     "name": "stdout",
     "output_type": "stream",
     "text": [
      "Inside term: 25.275805394078592\n",
      "Approximate using Composite Trapezoidal Rule: 3.159475674259824\n"
     ]
    }
   ],
   "source": [
    "inside_term = fh_[0] + first_sum + fh_[n]\n",
    "\n",
    "print(\"Inside term:\", inside_term)\n",
    "\n",
    "outside_term = 0.25 / 2\n",
    "\n",
    "approximate_1 = outside_term * inside_term\n",
    "\n",
    "print(\"Approximate using Composite Trapezoidal Rule:\", approximate_1)"
   ]
  },
  {
   "cell_type": "markdown",
   "id": "96b19d89",
   "metadata": {},
   "source": [
    "$$\\int_0^2 x^2 \\ln(x^2 + 1) dx \\approx 3.159475674259824$$"
   ]
  },
  {
   "cell_type": "markdown",
   "id": "b7430c08",
   "metadata": {},
   "source": [
    "### Composite Simpson's Rule\n",
    "Recall that the formula for composite Simpson's rule is:\n",
    "\n",
    "$$\n",
    "\\int_a^b f(x) dx = \\frac{h}{3} [f(a) + 2 \\sum^{(n/2) - 1}_{j=1} f(x_{2j}) + 4 \\sum^{n/2}_{j=1} f(x_{2j-1}) + f(b)] - \\text{error term} \n",
    "$$"
   ]
  },
  {
   "cell_type": "markdown",
   "id": "4df14b13",
   "metadata": {},
   "source": [
    "\n",
    "With $h=0.25$ and $n=8$; \n",
    "\n",
    "$$\n",
    "\\int_0^2 x^2 \\ln(x^2 + 1) dx = \\frac{0.25}{3} [f(a) + 2 \\sum^{3}_{j=1} f(x_{2j}) + 4 \\sum^{4}_{j=1} f(x_{2j-1}) + f(b)] - \\text{error term} \n",
    "$$\n",
    "\n",
    "For $2 \\sum^{(n/2) - 1}_{j=1} f(x_{2j})$\n",
    "\n",
    "$$2 \\sum^{(8/2) - 1}_{j=1} f(x_{2j})$$\n",
    "$$2 \\sum^{3}_{j=1} f(x_{2j})$$\n",
    "$$2[f(x_2) + f(x_4) + f(x_6)]$$"
   ]
  },
  {
   "cell_type": "code",
   "execution_count": 21,
   "id": "4f87666d",
   "metadata": {},
   "outputs": [
    {
     "data": {
      "text/plain": [
       "2    0.111572\n",
       "4    1.386294\n",
       "6    5.303947\n",
       "dtype: float64"
      ]
     },
     "execution_count": 21,
     "metadata": {},
     "output_type": "execute_result"
    }
   ],
   "source": [
    "first_ind = [2, 4, 6]\n",
    "first_ = fh_[first_ind]*2\n",
    "first_"
   ]
  },
  {
   "cell_type": "code",
   "execution_count": 22,
   "id": "45ff10c3",
   "metadata": {},
   "outputs": [
    {
     "data": {
      "text/plain": [
       "6.801813620314403"
      ]
     },
     "execution_count": 22,
     "metadata": {},
     "output_type": "execute_result"
    }
   ],
   "source": [
    "first_sum = first_.sum()\n",
    "first_sum"
   ]
  },
  {
   "cell_type": "markdown",
   "id": "cc460e37",
   "metadata": {},
   "source": [
    "For $4 \\sum^{n/2}_{j=1} f(x_{2j-1})$\n",
    "\n",
    "$$4 \\sum^{4}_{j=1} f(x_{2j-1})$$\n",
    "$$4[f(x_1) + f(x_3) + f(x_5) + f(x_7)]$$"
   ]
  },
  {
   "cell_type": "code",
   "execution_count": 23,
   "id": "55f33cfc",
   "metadata": {},
   "outputs": [
    {
     "data": {
      "text/plain": [
       "1     0.015156\n",
       "3     1.004146\n",
       "5     5.881146\n",
       "7    17.172032\n",
       "dtype: float64"
      ]
     },
     "execution_count": 23,
     "metadata": {},
     "output_type": "execute_result"
    }
   ],
   "source": [
    "second_ind = [1,3,5,7]\n",
    "second_ = fh_[second_ind]*4\n",
    "second_"
   ]
  },
  {
   "cell_type": "code",
   "execution_count": 24,
   "id": "70ec32c3",
   "metadata": {},
   "outputs": [
    {
     "data": {
      "text/plain": [
       "24.072480248055577"
      ]
     },
     "execution_count": 24,
     "metadata": {},
     "output_type": "execute_result"
    }
   ],
   "source": [
    "second_sum = second_.sum()\n",
    "second_sum"
   ]
  },
  {
   "cell_type": "markdown",
   "id": "078ac10a",
   "metadata": {},
   "source": [
    "$$\n",
    "\\int_0^2 x^2 \\ln(x^2 + 1) dx = \\frac{0.25}{3} [f(a) + 2 \\sum^{3}_{j=1} f(x_{2j}) + 4 \\sum^{4}_{j=1} f(x_{2j-1}) + f(b)] - \\text{error term} \n",
    "$$"
   ]
  },
  {
   "cell_type": "code",
   "execution_count": 25,
   "id": "a8afe4d0",
   "metadata": {},
   "outputs": [
    {
     "name": "stdout",
     "output_type": "stream",
     "text": [
      "Inside Term: 37.31204551810638\n",
      "Approximate using Composite Simpson's Rule: 3.1093371265088647\n"
     ]
    }
   ],
   "source": [
    "fa = fh_[0]\n",
    "fb = fh_[n]\n",
    "inside_term = fa+fb+first_sum+second_sum\n",
    "print(\"Inside Term:\", inside_term)\n",
    "\n",
    "outside_term = 0.25 / 3\n",
    "\n",
    "approximate_2 = inside_term*outside_term\n",
    "print(\"Approximate using Composite Simpson's Rule:\", approximate_2)"
   ]
  },
  {
   "cell_type": "markdown",
   "id": "c31f7608",
   "metadata": {},
   "source": [
    "$$\\int_0^2 x^2 \\ln(x^2 + 1) dx \\approx 3.1093371265088647$$"
   ]
  },
  {
   "cell_type": "markdown",
   "id": "807e9dea",
   "metadata": {},
   "source": [
    "### Composite Midpoint Rule\n",
    "\n",
    "Recall that the formula for Composite Midpoint Rule is:\n",
    "\n",
    "$$\n",
    "\\int_a^b f(x) dx \\approx 2h \\sum^{n/2}_{j=0} f(x_{2j})\n",
    "$$\n",
    "\n",
    "but h is different in this.\n",
    "\n",
    "$$h = \\frac{b-a}{n+2} $$\n",
    "\n",
    "$$0.25 = \\frac{2-0}{n+2}$$\n",
    "\n",
    "$$n+2 = 2/0.25 = 8$$\n",
    "\n",
    "$$ n = 8-2 = 6$$\n",
    "\n",
    "$x_j =a + (j+1)h$ for $j = -1, 0, ..., n+1$\n",
    " "
   ]
  },
  {
   "cell_type": "code",
   "execution_count": 26,
   "id": "c154e514",
   "metadata": {},
   "outputs": [
    {
     "data": {
      "text/plain": [
       "-1    0.000000\n",
       " 0    0.003789\n",
       " 1    0.055786\n",
       " 2    0.251036\n",
       " 3    0.693147\n",
       " 4    1.470286\n",
       " 5    2.651974\n",
       " 6    4.293008\n",
       " 7    6.437752\n",
       "dtype: float64"
      ]
     },
     "execution_count": 26,
     "metadata": {},
     "output_type": "execute_result"
    }
   ],
   "source": [
    "n = 6\n",
    "h = 0.25\n",
    "a = 0\n",
    "x = [a + (j+1)*h for j in range(-1, n+2)]\n",
    "f_x = [sip.eq_solver(eq, x) for x in x]\n",
    "f_x_ = pd.Series(f_x, index=list(range(-1,n+2)))\n",
    "\n",
    "f_x_"
   ]
  },
  {
   "cell_type": "markdown",
   "id": "8d2093a0",
   "metadata": {},
   "source": [
    "\n",
    "\n",
    "$$\\int_0^2 x^2 \\ln(x^2 + 1) dx \\approx 2(0.25) \\sum^{3.5}_{j=0} f(x_{2j})$$\n",
    "\n",
    "\n",
    "$$ \\approx 0.5[f(0) + f(2) + f(4) + f(6)]$$\n"
   ]
  },
  {
   "cell_type": "code",
   "execution_count": 27,
   "id": "18c81920",
   "metadata": {},
   "outputs": [
    {
     "data": {
      "text/plain": [
       "0    0.003789\n",
       "2    0.251036\n",
       "4    1.470286\n",
       "6    4.293008\n",
       "dtype: float64"
      ]
     },
     "execution_count": 27,
     "metadata": {},
     "output_type": "execute_result"
    }
   ],
   "source": [
    "f_ind = list(range(0,7, 2))\n",
    "\n",
    "inside_term = f_x_[f_ind]\n",
    "inside_term"
   ]
  },
  {
   "cell_type": "code",
   "execution_count": 28,
   "id": "31c0e7d0",
   "metadata": {},
   "outputs": [
    {
     "name": "stdout",
     "output_type": "stream",
     "text": [
      "Inside Sum: 6.018120062013894\n",
      "Approximate using Composite Midpoint Rule: 3.009060031006947\n"
     ]
    }
   ],
   "source": [
    "inside_term_sum = inside_term.sum()\n",
    "\n",
    "print(\"Inside Sum:\", inside_term_sum)\n",
    "\n",
    "approximate_3 = 0.5 * inside_term_sum\n",
    "\n",
    "print(\"Approximate using Composite Midpoint Rule:\", approximate_3)"
   ]
  },
  {
   "cell_type": "markdown",
   "id": "a742fff3",
   "metadata": {},
   "source": [
    "$$\\int_0^2 x^2 \\ln(x^2 + 1) dx \\approx 3.009060031006947$$"
   ]
  },
  {
   "cell_type": "markdown",
   "id": "aa95e96f",
   "metadata": {},
   "source": [
    "---\n"
   ]
  },
  {
   "cell_type": "markdown",
   "id": "b15aed00",
   "metadata": {},
   "source": [
    "## Determine the values of n and h required to approximate $\\int_0^2 \\frac{1}{x+4} dx$ to within $10^{-5}$"
   ]
  },
  {
   "cell_type": "markdown",
   "id": "3f0ffb54",
   "metadata": {},
   "source": [
    "### Composite Trapezoidal Rule\n",
    "\n",
    "Recall that the error term for this rule is:\n",
    "$$\\frac{b-a}{12}h^2 f'' (\\mu)$$\n",
    "\n",
    "where $\\mu \\in (a,b)$\n",
    "\n",
    "$$f(x) =  \\frac{1}{x+4}$$\n",
    "\n",
    "$$f'(x) = -\\frac{1}{(x+4)^2}$$\n",
    "\n",
    "$$f''(x) = \\frac{2}{(x+4)^3}$$\n",
    "\n",
    "Since $\\mu \\in (0,2)$,\n",
    "\n",
    "$$|\\frac{1}{6} h^2 f''(\\mu)| < \\frac{1}{6} h^2 f(0) = \\frac{1}{6} h^2 \\frac{2}{4^3}$$\n",
    "\n",
    "$$|\\frac{1}{6} h^2 f''(\\mu)| < \\frac{1}{6} h^2 \\frac{2}{64} = \\frac{2}{384} h^2$$\n",
    "\n",
    "\n",
    "Thus, solving for \n",
    "\n",
    "$$ \\frac{2}{384} h^2 < 10^{-5}$$\n",
    "\n",
    "$$h^2 < \\frac{384}{10^5 \\times 2}$$\n",
    "\n",
    "$$h < \\sqrt{\\frac{384}{10^5 \\times 2}}$$\n"
   ]
  },
  {
   "cell_type": "code",
   "execution_count": null,
   "id": "77b58272",
   "metadata": {},
   "outputs": [],
   "source": []
  },
  {
   "cell_type": "code",
   "execution_count": null,
   "id": "c224ec30",
   "metadata": {},
   "outputs": [
    {
     "data": {
      "text/plain": [
       "0.04381780460041329"
      ]
     },
     "execution_count": 97,
     "metadata": {},
     "output_type": "execute_result"
    }
   ],
   "source": [
    "(384/((10**5) * 2))**0.5"
   ]
  },
  {
   "cell_type": "markdown",
   "id": "a0a977b7",
   "metadata": {},
   "source": [
    "$$h < 0.04381780460041329$$\n",
    "\n",
    "Recall that\n",
    "\n",
    "$$h = \\frac{b-a}{n}$$\n",
    "\n",
    "$$h = \\frac{2}{n} < 0.04381780460041329$$\n",
    "\n",
    "$$n > \\frac{2}{0.04381780460041329}$$"
   ]
  },
  {
   "cell_type": "code",
   "execution_count": null,
   "id": "e9bf6818",
   "metadata": {},
   "outputs": [
    {
     "data": {
      "text/plain": [
       "45.64354645876384"
      ]
     },
     "execution_count": 98,
     "metadata": {},
     "output_type": "execute_result"
    }
   ],
   "source": [
    "2/0.04381780460041329"
   ]
  },
  {
   "cell_type": "markdown",
   "id": "c95340a9",
   "metadata": {},
   "source": [
    "$$n > 45.64354645876384$$\n",
    "$$n \\geq 46$$"
   ]
  },
  {
   "cell_type": "markdown",
   "id": "b9b88900",
   "metadata": {},
   "source": [
    "---\n",
    "\n",
    "### Composite Simpson's Rule\n",
    "\n",
    "Recall that the error term for this rule is:\n",
    "\n",
    "$$\\frac{b-a}{180}h^4 f^{(4)}(\\mu)$$\n",
    "\n",
    "where $\\mu \\in (a,b)$\n",
    "\n",
    "$$f^{(3)}(x) = \\frac{-6}{(x+4)^4}$$\n",
    "\n",
    "$$f^{(4)}(x) = \\frac{24}{(x+4)^5}$$\n",
    "\n",
    "$$|\\frac{2}{180}h^4 f^{(4)}(\\mu)| < \\frac{2}{180}h^4 \\frac{24}{4^6}$$\n",
    "\n",
    "$$|\\frac{2}{180}h^4 f^{(4)}(\\mu)| < \\frac{2}{180}h^4 \\frac{24}{4096}$$\n",
    "\n",
    "$$|\\frac{2}{180}h^4 f^{(4)}(\\mu)| < \\frac{48}{737280} h^4$$\n",
    "\n",
    "Solving for:\n",
    "\n",
    "$$\\frac{48}{737280} h^4 < \\frac{1}{10^5}$$\n",
    "\n",
    "$$h^4 < \\frac{737280}{48 \\times 10^5}$$\n",
    "\n",
    "$$h < (\\frac{737280}{48 \\times 10^5})^{1/4}$$"
   ]
  },
  {
   "cell_type": "code",
   "execution_count": null,
   "id": "988dcc1b",
   "metadata": {},
   "outputs": [
    {
     "data": {
      "text/plain": [
       "0.626033832029315"
      ]
     },
     "execution_count": 104,
     "metadata": {},
     "output_type": "execute_result"
    }
   ],
   "source": [
    "(737280/(48 * (10**5))) ** (1/4)"
   ]
  },
  {
   "cell_type": "markdown",
   "id": "e949583d",
   "metadata": {},
   "source": [
    "$$h < 0.626033832029315$$\n",
    "\n",
    "$$h = \\frac{b-a}{n} = \\frac{2}{n} < 0.626033832029315$$\n",
    "\n",
    "$$n > \\frac{2}{0.626033832029315}$$"
   ]
  },
  {
   "cell_type": "code",
   "execution_count": null,
   "id": "a00ec49e",
   "metadata": {},
   "outputs": [
    {
     "data": {
      "text/plain": [
       "3.194715521231362"
      ]
     },
     "execution_count": 105,
     "metadata": {},
     "output_type": "execute_result"
    }
   ],
   "source": [
    "2/0.626033832029315"
   ]
  },
  {
   "cell_type": "markdown",
   "id": "91bd4ec0",
   "metadata": {},
   "source": [
    "$$n>3.194715521231362$$\n",
    "\n",
    "$$n \\geq 4$$\n",
    "\n",
    "---"
   ]
  },
  {
   "cell_type": "markdown",
   "id": "e596c408",
   "metadata": {},
   "source": [
    "### Composite Midpoint Rule\n",
    "\n",
    "Recall that this rule has an error term of:\n",
    "\n",
    "$$\\frac{b-a}{6}h^2 f''(\\mu)$$\n",
    "\n",
    "where $\\mu \\in (a,b)$\n",
    "\n",
    "$$|\\frac{2}{6} h^2 f''(\\mu)| < \\frac{1}{3}h^2 \\frac{2}{64} = \\frac{2}{192}h^2$$\n",
    "\n",
    "Solving for:\n",
    "\n",
    "$$\\frac{2}{192}h^2 < \\frac{1}{10^5}$$\n",
    "\n",
    "$$h^2 < \\frac{192}{2 \\times 10^5}$$\n",
    "\n",
    "$$h < \\sqrt{\\frac{192}{2 \\times 10^5}}$$"
   ]
  },
  {
   "cell_type": "code",
   "execution_count": null,
   "id": "5ef46a57",
   "metadata": {},
   "outputs": [
    {
     "data": {
      "text/plain": [
       "0.030983866769659335"
      ]
     },
     "execution_count": 109,
     "metadata": {},
     "output_type": "execute_result"
    }
   ],
   "source": [
    "(192 / (2 * (10**5)))**0.5"
   ]
  },
  {
   "cell_type": "markdown",
   "id": "c0c407fa",
   "metadata": {},
   "source": [
    "$$h < 0.030983866769659335$$\n",
    "\n",
    "Recall that:\n",
    "$$h=\\frac{b-a}{n+2}$$\n",
    "\n",
    "$$h = \\frac{2}{n+2} < 0.030983866769659335$$\n",
    "\n",
    "$$n+2 > \\frac{2}{0.030983866769659335}$$\n",
    "\n",
    "$$n > \\frac{2}{0.030983866769659335} - 2$$"
   ]
  },
  {
   "cell_type": "code",
   "execution_count": null,
   "id": "ed725e32",
   "metadata": {},
   "outputs": [
    {
     "data": {
      "text/plain": [
       "62.549722436790276"
      ]
     },
     "execution_count": 110,
     "metadata": {},
     "output_type": "execute_result"
    }
   ],
   "source": [
    "(2/0.030983866769659335) - 2"
   ]
  },
  {
   "cell_type": "markdown",
   "id": "5f5d7499",
   "metadata": {},
   "source": [
    "$$n > 62.549722436790276$$\n",
    "\n",
    "$$n \\geq 63$$\n",
    "\n",
    "---"
   ]
  },
  {
   "cell_type": "markdown",
   "id": "3cac1f58",
   "metadata": {},
   "source": [
    "## Approximate $\\int_0^1 x^2 e^x dx$ using Gaussian Quadrature with n=2\n",
    "\n",
    "Since the Guassian quarature rules are defined on the interval $[-1,1]$, we ought to transpose the interval of integration. \n",
    "\n",
    "$$x(t) = \\frac{(b-a)t + (b+a)}{2} = \\frac{(1-0)t + (1+0)}{2} = \\frac{t+1}{2}$$\n",
    "    \n",
    "Then, $dx = \\frac{b-a}{2} dt = \\frac{1}{2} dt$.\n",
    "\n",
    "Consquentyly, $f(x) = x^2 e^x$ becomes $f\\left(\\frac{t+1}{2}\\right) = \\left(\\frac{t+1}{2}\\right)^2 e^{\\frac{t+1}{2}}$.\n",
    "\n",
    "$$\\int_0^1 x^2 e^x dx = \\int_{-1}^1 f\\left(\\frac{t+1}{2}\\right) \\frac{1}{2} dt = \\int_{-1}^1 \\frac{1}{2} \\left(\\frac{t+1}{2}\\right)^2 e^{\\frac{t+1}{2}} dt$$\n",
    "\n",
    "Let $g(t) = \\frac{1}{2} \\left(\\frac{t+1}{2}\\right)^2 e^{\\frac{t+1}{2}}$.\n",
    "\n",
    "Let us now find the nodes and the wieghts for $n=2$.\n",
    "\n",
    "From the slide (Page 36), the nodes ($t_i$) and weights ($c_i$) needed for Guassian Quarature are:\n",
    "\n",
    "$t_1 = -0.5773502692$, $c_1 = 1.0$\n",
    "\n",
    "$t_2 = 0.5773502692$, $c_2 = 1.0$\n",
    "\n",
    "Recall that the formula for Guassian Quarature rule is:\n",
    "\n",
    "$$\\int_{-1}^1 g(t) dt \\approx \\sum_{i=1}^n c_i g(t_i)$$\n",
    "\n",
    "For $n=2$:\n",
    "$$\\int_{-1}^1 g(t) dt \\approx c_1 g(t_1) + c_2 g(t_2)$$"
   ]
  },
  {
   "cell_type": "code",
   "execution_count": null,
   "id": "903fe833",
   "metadata": {},
   "outputs": [
    {
     "data": {
      "text/plain": [
       "[0.027583440137066442, 0.6843583341162582]"
      ]
     },
     "execution_count": 10,
     "metadata": {},
     "output_type": "execute_result"
    }
   ],
   "source": [
    "eq = \"0.5*(((x+1)/2)**2 )* e^(x/2) * e^(0.5)\"\n",
    "ts = [-0.5773502692, 0.5773502692]\n",
    "\n",
    "gt = [sip.eq_solver(eq, t) for t in ts]\n",
    "gt"
   ]
  },
  {
   "cell_type": "code",
   "execution_count": null,
   "id": "79f2ceab",
   "metadata": {},
   "outputs": [
    {
     "name": "stdout",
     "output_type": "stream",
     "text": [
      "Approximation: 0.7119417742533247\n"
     ]
    }
   ],
   "source": [
    "print(\"Approximation:\", sum(gt))"
   ]
  },
  {
   "cell_type": "markdown",
   "id": "81edb78d",
   "metadata": {},
   "source": [
    "$$\\int_{-1}^1 g(t) dt \\approx \\sum_{i=1}^n c_i g(t_i) \\approx 0.7119417742533247$$\n",
    "\n",
    "---"
   ]
  },
  {
   "cell_type": "markdown",
   "id": "bbff3a6f",
   "metadata": {},
   "source": [
    "## Use Guassian double integral to with n=m=4 to approximate \n",
    "$$\\int_1^{1.5} \\int_0^x (x^2 + \\sqrt{y})dydx$$ "
   ]
  },
  {
   "cell_type": "code",
   "execution_count": 30,
   "id": "9823e7da",
   "metadata": {},
   "outputs": [
    {
     "name": "stdout",
     "output_type": "stream",
     "text": [
      "The approximate value of the integral is: 1.484620577109789\n"
     ]
    }
   ],
   "source": [
    "from scipy.special import roots_legendre\n",
    "\n",
    "def gaussian_double_integral_simple(f, c, d, a, b, m, n):\n",
    "    rm, cm = roots_legendre(m)\n",
    "    rn, cn = roots_legendre(n)\n",
    "\n",
    "    h1 = (b - a) / 2.0\n",
    "    h2 = (b + a) / 2.0\n",
    "    J = 0.0\n",
    "\n",
    "    for i in range(m):\n",
    "        x = h1 * rm[i] + h2\n",
    "        c1 = c(x)\n",
    "        d1 = d(x)\n",
    "        k1 = (d1 - c1) / 2.0\n",
    "        k2 = (d1 + c1) / 2.0\n",
    "        JX = 0.0\n",
    "\n",
    "        for j in range(n):\n",
    "            y = k1 * rn[j] + k2\n",
    "            Q = f(x, y)\n",
    "            JX = JX + cn[j] * Q\n",
    "\n",
    "        J = J + cm[i] * k1 * JX\n",
    "\n",
    "    J = h1 * J\n",
    "\n",
    "    return J\n",
    "\n",
    "def f(x, y):\n",
    "    return x**2 + np.sqrt(y)\n",
    "\n",
    "def c(x):\n",
    "    return 0.0\n",
    "\n",
    "def d(x):\n",
    "    return x\n",
    "\n",
    "a = 1.0\n",
    "b = 1.5\n",
    "m = 4\n",
    "n = 4\n",
    "\n",
    "approximation = gaussian_double_integral_simple(f, c, d, a, b, m, n)\n",
    "print(f\"The approximate value of the integral is: {approximation}\")"
   ]
  },
  {
   "cell_type": "markdown",
   "id": "c067743c",
   "metadata": {},
   "source": [
    "---\n",
    "\n",
    "## Show that  $y' = y \\cos t$, $0 \\le t \\le 1$, $y(0) = 1$\n",
    "\n",
    "Applying the Mean Value theorem to $f(t, y) = y \\cos t$, we find that when $y_1 \\ne y_2$, a number $\\xi$ between $y_1$ and $y_2$ exists with\n",
    "$$ \\frac{f(t, y_2) - f(t, y_1)}{y_2 - y_1} = \\frac{\\partial}{\\partial y} f(t, \\xi) = \\frac{\\partial}{\\partial y} (\\xi \\cos t) = \\cos t. $$\n",
    "\n",
    "Thus,\n",
    "$$ |f(t, y_2) - f(t, y_1)| = |(y_2 - y_1) \\cos t| = |y_2 - y_1| |\\cos t|. $$\n",
    "For $0 \\le t \\le 1$, we have $|\\cos t| \\le 1$.\n",
    "Therefore,\n",
    "$$ |f(t, y_2) - f(t, y_1)| \\le 1 \\cdot |y_2 - y_1|. $$\n",
    "And $f$ satisfies a Lipschitz condition in the variable $y$ with Lipschitz constant $L = 1$.\n",
    "\n",
    "Additionally, $f(t, y) = y \\cos t$ is continuous when $0 \\le t \\le 1$ and $-\\infty < y < \\infty$, so the theorem implies that a unique solution exists to this initial-value problem for $0 \\le t \\le 1$."
   ]
  },
  {
   "cell_type": "markdown",
   "id": "39d41ace",
   "metadata": {},
   "source": [
    "---\n",
    "\n"
   ]
  },
  {
   "cell_type": "markdown",
   "id": "072a6cc5",
   "metadata": {},
   "source": [
    "## Use Euler's method to approximate the solutions to\n",
    "$$ y' = \\frac{2 - 2ty}{t^2 + 1}, \\quad 0 \\leq t \\leq 1, \\quad y(0) = 1, \\quad \\text{with } h = 0.1 $$\n",
    "Tabulate all four results to compare and discuss the the differences with the actual solution :\n",
    "$$ y(t) = \\frac{2t + 1}{t^2 + 1}. $$\n",
    "\n",
    "Let N = 5"
   ]
  },
  {
   "cell_type": "markdown",
   "id": "14ca931c",
   "metadata": {},
   "source": [
    "1. Euler method\n",
    "\n",
    "Let N=10\n",
    "Recall that in Euler method: $w_{i+1}= w_i + h f(t_i, w_i)$ for each $i=1,2,..., N-1$\n",
    "\n",
    "$$\n",
    "\\begin{align*}\n",
    "w_o &= y(0) = 1 \\\\\n",
    "w_1 &= w_0 + 0.1(\\frac{2-2(0)(w_0)}{0^2 + 1}) = 1 + 0.1(2) = 1.2 \\\\\n",
    "w_2 &= w_1 + 0.1(\\frac{2-2(0.1)(w_1)}{0.1^2 + 1}) \\approx 1.3742574257425741\\\\\n",
    "w_3 &= w_2 + 0.1(\\frac{2-2(0.2)(w_2)}{0.1^2 + 1}) \\approx 1.5137090632140136\n",
    "\\end{align*}\n",
    "$$\n",
    "and so on"
   ]
  },
  {
   "cell_type": "code",
   "execution_count": 78,
   "id": "89373431",
   "metadata": {},
   "outputs": [
    {
     "data": {
      "text/html": [
       "<div>\n",
       "<style scoped>\n",
       "    .dataframe tbody tr th:only-of-type {\n",
       "        vertical-align: middle;\n",
       "    }\n",
       "\n",
       "    .dataframe tbody tr th {\n",
       "        vertical-align: top;\n",
       "    }\n",
       "\n",
       "    .dataframe thead th {\n",
       "        text-align: right;\n",
       "    }\n",
       "</style>\n",
       "<table border=\"1\" class=\"dataframe\">\n",
       "  <thead>\n",
       "    <tr style=\"text-align: right;\">\n",
       "      <th></th>\n",
       "      <th>w_i</th>\n",
       "    </tr>\n",
       "    <tr>\n",
       "      <th>t</th>\n",
       "      <th></th>\n",
       "    </tr>\n",
       "  </thead>\n",
       "  <tbody>\n",
       "    <tr>\n",
       "      <th>0.0</th>\n",
       "      <td>1.000000</td>\n",
       "    </tr>\n",
       "    <tr>\n",
       "      <th>0.1</th>\n",
       "      <td>1.200000</td>\n",
       "    </tr>\n",
       "    <tr>\n",
       "      <th>0.2</th>\n",
       "      <td>1.374257</td>\n",
       "    </tr>\n",
       "    <tr>\n",
       "      <th>0.3</th>\n",
       "      <td>1.513709</td>\n",
       "    </tr>\n",
       "    <tr>\n",
       "      <th>0.4</th>\n",
       "      <td>1.613872</td>\n",
       "    </tr>\n",
       "    <tr>\n",
       "      <th>0.5</th>\n",
       "      <td>1.674984</td>\n",
       "    </tr>\n",
       "    <tr>\n",
       "      <th>0.6</th>\n",
       "      <td>1.700985</td>\n",
       "    </tr>\n",
       "    <tr>\n",
       "      <th>0.7</th>\n",
       "      <td>1.697957</td>\n",
       "    </tr>\n",
       "    <tr>\n",
       "      <th>0.8</th>\n",
       "      <td>1.672646</td>\n",
       "    </tr>\n",
       "    <tr>\n",
       "      <th>0.9</th>\n",
       "      <td>1.631412</td>\n",
       "    </tr>\n",
       "    <tr>\n",
       "      <th>1.0</th>\n",
       "      <td>1.579669</td>\n",
       "    </tr>\n",
       "  </tbody>\n",
       "</table>\n",
       "</div>"
      ],
      "text/plain": [
       "          w_i\n",
       "t            \n",
       "0.0  1.000000\n",
       "0.1  1.200000\n",
       "0.2  1.374257\n",
       "0.3  1.513709\n",
       "0.4  1.613872\n",
       "0.5  1.674984\n",
       "0.6  1.700985\n",
       "0.7  1.697957\n",
       "0.8  1.672646\n",
       "0.9  1.631412\n",
       "1.0  1.579669"
      ]
     },
     "execution_count": 78,
     "metadata": {},
     "output_type": "execute_result"
    }
   ],
   "source": [
    "def f(x,y):\n",
    "    num = 2 - 2*x*y\n",
    "    denom = x**2 + 1\n",
    "    return num / denom\n",
    "\n",
    "def euler(res, w_0, step):\n",
    "    return w_0 + step*res\n",
    "\n",
    "N = 10\n",
    "step = 0.1\n",
    "a = 0 # start\n",
    "w_0 = 1\n",
    "result = [{\"t\":0, \"w_i\" : w_0}]\n",
    "\n",
    "for i in range(1, N+1):\n",
    "    t = a + (i-1)*step\n",
    "\n",
    "    f_xy = f(t,w_0)\n",
    "\n",
    "    w_i = euler(f_xy, w_0, step)\n",
    "\n",
    "    result.append({\"t\":t+step, \"w_i\" : w_i})\n",
    "\n",
    "    w_0 = w_i\n",
    "\n",
    "result_euler = pd.DataFrame(result).set_index(\"t\")\n",
    "result_euler"
   ]
  },
  {
   "cell_type": "markdown",
   "id": "08d19153",
   "metadata": {},
   "source": [
    "\n",
    "2. Modified Euler method\n",
    "\n",
    "For Modified euler:\n",
    "\n",
    "$$w_{i+1}= w_i + \\frac{h}{2}[f(t_i, w_i) + f(t_{i+1}, \\underbrace{w_i + hf(t_i, w_i)}_{euler})]$$\n",
    "for $i=1,2,...,N-1$"
   ]
  },
  {
   "cell_type": "code",
   "execution_count": 72,
   "id": "91209fad",
   "metadata": {},
   "outputs": [
    {
     "data": {
      "text/html": [
       "<div>\n",
       "<style scoped>\n",
       "    .dataframe tbody tr th:only-of-type {\n",
       "        vertical-align: middle;\n",
       "    }\n",
       "\n",
       "    .dataframe tbody tr th {\n",
       "        vertical-align: top;\n",
       "    }\n",
       "\n",
       "    .dataframe thead th {\n",
       "        text-align: right;\n",
       "    }\n",
       "</style>\n",
       "<table border=\"1\" class=\"dataframe\">\n",
       "  <thead>\n",
       "    <tr style=\"text-align: right;\">\n",
       "      <th></th>\n",
       "      <th>w_i</th>\n",
       "    </tr>\n",
       "    <tr>\n",
       "      <th>t</th>\n",
       "      <th></th>\n",
       "    </tr>\n",
       "  </thead>\n",
       "  <tbody>\n",
       "    <tr>\n",
       "      <th>0.0</th>\n",
       "      <td>1.000000</td>\n",
       "    </tr>\n",
       "    <tr>\n",
       "      <th>0.1</th>\n",
       "      <td>1.187129</td>\n",
       "    </tr>\n",
       "    <tr>\n",
       "      <th>0.2</th>\n",
       "      <td>1.344353</td>\n",
       "    </tr>\n",
       "    <tr>\n",
       "      <th>0.3</th>\n",
       "      <td>1.465527</td>\n",
       "    </tr>\n",
       "    <tr>\n",
       "      <th>0.4</th>\n",
       "      <td>1.549061</td>\n",
       "    </tr>\n",
       "    <tr>\n",
       "      <th>0.5</th>\n",
       "      <td>1.597266</td>\n",
       "    </tr>\n",
       "    <tr>\n",
       "      <th>0.6</th>\n",
       "      <td>1.615016</td>\n",
       "    </tr>\n",
       "    <tr>\n",
       "      <th>0.7</th>\n",
       "      <td>1.608321</td>\n",
       "    </tr>\n",
       "    <tr>\n",
       "      <th>0.8</th>\n",
       "      <td>1.583221</td>\n",
       "    </tr>\n",
       "    <tr>\n",
       "      <th>0.9</th>\n",
       "      <td>1.545108</td>\n",
       "    </tr>\n",
       "    <tr>\n",
       "      <th>1.0</th>\n",
       "      <td>1.498431</td>\n",
       "    </tr>\n",
       "  </tbody>\n",
       "</table>\n",
       "</div>"
      ],
      "text/plain": [
       "          w_i\n",
       "t            \n",
       "0.0  1.000000\n",
       "0.1  1.187129\n",
       "0.2  1.344353\n",
       "0.3  1.465527\n",
       "0.4  1.549061\n",
       "0.5  1.597266\n",
       "0.6  1.615016\n",
       "0.7  1.608321\n",
       "0.8  1.583221\n",
       "0.9  1.545108\n",
       "1.0  1.498431"
      ]
     },
     "execution_count": 72,
     "metadata": {},
     "output_type": "execute_result"
    }
   ],
   "source": [
    "def euler_mod(res, res_2, w_0, step):\n",
    "    return w_0 + (step/2)*(res+res_2)\n",
    "\n",
    "N = 10\n",
    "step = 0.1\n",
    "a = 0 # start\n",
    "w_0 = 1\n",
    "result = [{\"t\":0, \"w_i\" : w_0}]\n",
    "\n",
    "for i in range(1, N+1):\n",
    "    t = a + (i-1)*step\n",
    "\n",
    "    f_xy = f(t,w_0)\n",
    "    \n",
    "    eul = euler(res=f_xy, w_0=w_0, step=step)\n",
    "\n",
    "    f_xy_2 = f(t + step, eul)\n",
    "\n",
    "    w_i = euler_mod(f_xy, f_xy_2, w_0, step)\n",
    "\n",
    "    result.append({\"t\":t+step, \"w_i\" : w_i})\n",
    "\n",
    "    w_0 = w_i\n",
    "\n",
    "result_euler_mod = pd.DataFrame(result).set_index(\"t\")\n",
    "result_euler_mod"
   ]
  },
  {
   "cell_type": "markdown",
   "id": "87521e96",
   "metadata": {},
   "source": [
    "3. Midpoint method\n",
    "\n",
    "$$\n",
    "w_{i+1} = \\underbrace{w_i + hf(t_1 + h/2,\\underbrace{w_i + \\frac{h}{2} f(t_i, w_i)}_{\\text{euler method with h/2 step}})}_{\\text{normal euler method}}\n",
    "$$"
   ]
  },
  {
   "cell_type": "code",
   "execution_count": 73,
   "id": "bac289ee",
   "metadata": {},
   "outputs": [
    {
     "data": {
      "text/html": [
       "<div>\n",
       "<style scoped>\n",
       "    .dataframe tbody tr th:only-of-type {\n",
       "        vertical-align: middle;\n",
       "    }\n",
       "\n",
       "    .dataframe tbody tr th {\n",
       "        vertical-align: top;\n",
       "    }\n",
       "\n",
       "    .dataframe thead th {\n",
       "        text-align: right;\n",
       "    }\n",
       "</style>\n",
       "<table border=\"1\" class=\"dataframe\">\n",
       "  <thead>\n",
       "    <tr style=\"text-align: right;\">\n",
       "      <th></th>\n",
       "      <th>w_i</th>\n",
       "    </tr>\n",
       "    <tr>\n",
       "      <th>t</th>\n",
       "      <th></th>\n",
       "    </tr>\n",
       "  </thead>\n",
       "  <tbody>\n",
       "    <tr>\n",
       "      <th>0.0</th>\n",
       "      <td>1.000000</td>\n",
       "    </tr>\n",
       "    <tr>\n",
       "      <th>0.1</th>\n",
       "      <td>1.188529</td>\n",
       "    </tr>\n",
       "    <tr>\n",
       "      <th>0.2</th>\n",
       "      <td>1.346697</td>\n",
       "    </tr>\n",
       "    <tr>\n",
       "      <th>0.3</th>\n",
       "      <td>1.468252</td>\n",
       "    </tr>\n",
       "    <tr>\n",
       "      <th>0.4</th>\n",
       "      <td>1.551663</td>\n",
       "    </tr>\n",
       "    <tr>\n",
       "      <th>0.5</th>\n",
       "      <td>1.599403</td>\n",
       "    </tr>\n",
       "    <tr>\n",
       "      <th>0.6</th>\n",
       "      <td>1.616526</td>\n",
       "    </tr>\n",
       "    <tr>\n",
       "      <th>0.7</th>\n",
       "      <td>1.609190</td>\n",
       "    </tr>\n",
       "    <tr>\n",
       "      <th>0.8</th>\n",
       "      <td>1.583522</td>\n",
       "    </tr>\n",
       "    <tr>\n",
       "      <th>0.9</th>\n",
       "      <td>1.544955</td>\n",
       "    </tr>\n",
       "    <tr>\n",
       "      <th>1.0</th>\n",
       "      <td>1.497941</td>\n",
       "    </tr>\n",
       "  </tbody>\n",
       "</table>\n",
       "</div>"
      ],
      "text/plain": [
       "          w_i\n",
       "t            \n",
       "0.0  1.000000\n",
       "0.1  1.188529\n",
       "0.2  1.346697\n",
       "0.3  1.468252\n",
       "0.4  1.551663\n",
       "0.5  1.599403\n",
       "0.6  1.616526\n",
       "0.7  1.609190\n",
       "0.8  1.583522\n",
       "0.9  1.544955\n",
       "1.0  1.497941"
      ]
     },
     "execution_count": 73,
     "metadata": {},
     "output_type": "execute_result"
    }
   ],
   "source": [
    "result = []\n",
    "\n",
    "N = 10\n",
    "step = 0.1\n",
    "a = 0 # start\n",
    "w_0 = 1\n",
    "\n",
    "result = [{\"t\":0, \"w_i\" : w_0}]\n",
    "\n",
    "for i in range(1, N+1):\n",
    "    t = a + (i-1)*step\n",
    "\n",
    "    f_xy = f(t,w_0)\n",
    "    \n",
    "    inner_eul = euler(res=f_xy, w_0=w_0, step=step/2)\n",
    "\n",
    "    f_xy_2 = f(t + step/2, inner_eul)\n",
    "\n",
    "    w_i = euler(f_xy_2, w_0, step)\n",
    "    \n",
    "    result.append({\"t\":t+step, \"w_i\" : w_i})\n",
    "\n",
    "    w_0 = w_i\n",
    "\n",
    "result_mid = pd.DataFrame(result).set_index(\"t\")\n",
    "result_mid"
   ]
  },
  {
   "cell_type": "markdown",
   "id": "9d9f0898",
   "metadata": {},
   "source": [
    "4. Runge-Kutta method of order four\n",
    "\n",
    "$$\n",
    "\\begin{align*}\n",
    "w_0 &= \\alpha,\\\\ \n",
    "k_1 &= hf(t_i, w_i), \\\\\n",
    "k_2 &= hf(t_i + h/2, w_i + \\frac{1}{2} k_1), \\\\\n",
    "k_3 &= hf(t_i + h/2, w_i + \\frac{1}{2} k_2), \\\\\n",
    "k_4 &= hf(t_{i+1}, w_i + k_3), \\\\\n",
    "w_{i+1} &= w_i + (1/6)*(k_1 + 2k_2 + 2k_3 + k_4)\n",
    "\\end{align*}\n",
    "$$\n",
    "\n",
    "for $i=0,1,...,N-1$"
   ]
  },
  {
   "cell_type": "code",
   "execution_count": 74,
   "id": "180dfd06",
   "metadata": {},
   "outputs": [
    {
     "data": {
      "text/html": [
       "<div>\n",
       "<style scoped>\n",
       "    .dataframe tbody tr th:only-of-type {\n",
       "        vertical-align: middle;\n",
       "    }\n",
       "\n",
       "    .dataframe tbody tr th {\n",
       "        vertical-align: top;\n",
       "    }\n",
       "\n",
       "    .dataframe thead th {\n",
       "        text-align: right;\n",
       "    }\n",
       "</style>\n",
       "<table border=\"1\" class=\"dataframe\">\n",
       "  <thead>\n",
       "    <tr style=\"text-align: right;\">\n",
       "      <th></th>\n",
       "      <th>w_i</th>\n",
       "    </tr>\n",
       "    <tr>\n",
       "      <th>t</th>\n",
       "      <th></th>\n",
       "    </tr>\n",
       "  </thead>\n",
       "  <tbody>\n",
       "    <tr>\n",
       "      <th>0.0</th>\n",
       "      <td>1.000000</td>\n",
       "    </tr>\n",
       "    <tr>\n",
       "      <th>0.1</th>\n",
       "      <td>1.188119</td>\n",
       "    </tr>\n",
       "    <tr>\n",
       "      <th>0.2</th>\n",
       "      <td>1.346154</td>\n",
       "    </tr>\n",
       "    <tr>\n",
       "      <th>0.3</th>\n",
       "      <td>1.467889</td>\n",
       "    </tr>\n",
       "    <tr>\n",
       "      <th>0.4</th>\n",
       "      <td>1.551723</td>\n",
       "    </tr>\n",
       "    <tr>\n",
       "      <th>0.5</th>\n",
       "      <td>1.599999</td>\n",
       "    </tr>\n",
       "    <tr>\n",
       "      <th>0.6</th>\n",
       "      <td>1.617645</td>\n",
       "    </tr>\n",
       "    <tr>\n",
       "      <th>0.7</th>\n",
       "      <td>1.610736</td>\n",
       "    </tr>\n",
       "    <tr>\n",
       "      <th>0.8</th>\n",
       "      <td>1.585364</td>\n",
       "    </tr>\n",
       "    <tr>\n",
       "      <th>0.9</th>\n",
       "      <td>1.546960</td>\n",
       "    </tr>\n",
       "    <tr>\n",
       "      <th>1.0</th>\n",
       "      <td>1.499998</td>\n",
       "    </tr>\n",
       "  </tbody>\n",
       "</table>\n",
       "</div>"
      ],
      "text/plain": [
       "          w_i\n",
       "t            \n",
       "0.0  1.000000\n",
       "0.1  1.188119\n",
       "0.2  1.346154\n",
       "0.3  1.467889\n",
       "0.4  1.551723\n",
       "0.5  1.599999\n",
       "0.6  1.617645\n",
       "0.7  1.610736\n",
       "0.8  1.585364\n",
       "0.9  1.546960\n",
       "1.0  1.499998"
      ]
     },
     "execution_count": 74,
     "metadata": {},
     "output_type": "execute_result"
    }
   ],
   "source": [
    "def f(x,y):\n",
    "    num = 2 - 2*x*y\n",
    "    denom = x**2 + 1\n",
    "    return num / denom\n",
    "\n",
    "def euler(res, w_0, step):\n",
    "    return w_0 + step*res\n",
    "\n",
    "N = 10\n",
    "step = 0.1\n",
    "a = 0 # start\n",
    "w_0 = 1\n",
    "result = [{\"t\":0, \"w_i\" : w_0}]\n",
    "for i in range(1, N+1):\n",
    "    t = a + (i-1)*step\n",
    "\n",
    "    k_1 = step*f(t,w_0)\n",
    "    k_2 = step*f(t + step/2, w_0 + 0.5*k_1)\n",
    "    k_3 = step*f(t + step/2, w_0 + 0.5*k_2)\n",
    "    k_4 = step*f(t + step, w_0 + k_3)\n",
    "\n",
    "    w_i = w_0 + (1/6)* (k_1 + 2*k_2 + 2*k_3 + k_4)\n",
    "\n",
    "    result.append({\"t\":t+step, \"w_i\" : w_i})\n",
    "\n",
    "    w_0 = w_i\n",
    "\n",
    "result_kr = pd.DataFrame(result).set_index(\"t\")\n",
    "result_kr"
   ]
  },
  {
   "cell_type": "markdown",
   "id": "0be495a8",
   "metadata": {},
   "source": [
    "$$ y(t) = \\frac{2t + 1}{t^2 + 1}. $$"
   ]
  },
  {
   "cell_type": "code",
   "execution_count": 80,
   "id": "83f03458",
   "metadata": {},
   "outputs": [
    {
     "data": {
      "text/html": [
       "<div>\n",
       "<style scoped>\n",
       "    .dataframe tbody tr th:only-of-type {\n",
       "        vertical-align: middle;\n",
       "    }\n",
       "\n",
       "    .dataframe tbody tr th {\n",
       "        vertical-align: top;\n",
       "    }\n",
       "\n",
       "    .dataframe thead th {\n",
       "        text-align: right;\n",
       "    }\n",
       "</style>\n",
       "<table border=\"1\" class=\"dataframe\">\n",
       "  <thead>\n",
       "    <tr style=\"text-align: right;\">\n",
       "      <th></th>\n",
       "      <th>w_i</th>\n",
       "    </tr>\n",
       "    <tr>\n",
       "      <th>t</th>\n",
       "      <th></th>\n",
       "    </tr>\n",
       "  </thead>\n",
       "  <tbody>\n",
       "    <tr>\n",
       "      <th>0.0</th>\n",
       "      <td>1.000000</td>\n",
       "    </tr>\n",
       "    <tr>\n",
       "      <th>0.1</th>\n",
       "      <td>1.188119</td>\n",
       "    </tr>\n",
       "    <tr>\n",
       "      <th>0.2</th>\n",
       "      <td>1.346154</td>\n",
       "    </tr>\n",
       "    <tr>\n",
       "      <th>0.3</th>\n",
       "      <td>1.467890</td>\n",
       "    </tr>\n",
       "    <tr>\n",
       "      <th>0.4</th>\n",
       "      <td>1.551724</td>\n",
       "    </tr>\n",
       "    <tr>\n",
       "      <th>0.5</th>\n",
       "      <td>1.600000</td>\n",
       "    </tr>\n",
       "    <tr>\n",
       "      <th>0.6</th>\n",
       "      <td>1.617647</td>\n",
       "    </tr>\n",
       "    <tr>\n",
       "      <th>0.7</th>\n",
       "      <td>1.610738</td>\n",
       "    </tr>\n",
       "    <tr>\n",
       "      <th>0.8</th>\n",
       "      <td>1.585366</td>\n",
       "    </tr>\n",
       "    <tr>\n",
       "      <th>0.9</th>\n",
       "      <td>1.546961</td>\n",
       "    </tr>\n",
       "    <tr>\n",
       "      <th>1.0</th>\n",
       "      <td>1.500000</td>\n",
       "    </tr>\n",
       "  </tbody>\n",
       "</table>\n",
       "</div>"
      ],
      "text/plain": [
       "          w_i\n",
       "t            \n",
       "0.0  1.000000\n",
       "0.1  1.188119\n",
       "0.2  1.346154\n",
       "0.3  1.467890\n",
       "0.4  1.551724\n",
       "0.5  1.600000\n",
       "0.6  1.617647\n",
       "0.7  1.610738\n",
       "0.8  1.585366\n",
       "0.9  1.546961\n",
       "1.0  1.500000"
      ]
     },
     "execution_count": 80,
     "metadata": {},
     "output_type": "execute_result"
    }
   ],
   "source": [
    "def f_(x):\n",
    "    num = 2*x +1 \n",
    "    den = x**2 + 1\n",
    "    return num/den\n",
    "\n",
    "N = 10\n",
    "step = 0.1\n",
    "a = 0\n",
    "w_0 = 1\n",
    "result = []\n",
    "for i in range(N+1):\n",
    "    \n",
    "    t = a + i*step\n",
    "\n",
    "    w_i = f_(t)\n",
    "\n",
    "    result.append({\"t\":t, \"w_i\" : w_i})\n",
    "\n",
    "result_actual = pd.DataFrame(result).set_index(\"t\")\n",
    "result_actual"
   ]
  },
  {
   "cell_type": "code",
   "execution_count": 92,
   "id": "0cc706af",
   "metadata": {},
   "outputs": [
    {
     "data": {
      "text/html": [
       "<div>\n",
       "<style scoped>\n",
       "    .dataframe tbody tr th:only-of-type {\n",
       "        vertical-align: middle;\n",
       "    }\n",
       "\n",
       "    .dataframe tbody tr th {\n",
       "        vertical-align: top;\n",
       "    }\n",
       "\n",
       "    .dataframe thead th {\n",
       "        text-align: right;\n",
       "    }\n",
       "</style>\n",
       "<table border=\"1\" class=\"dataframe\">\n",
       "  <thead>\n",
       "    <tr style=\"text-align: right;\">\n",
       "      <th></th>\n",
       "      <th>Euler</th>\n",
       "      <th>EulerModified</th>\n",
       "      <th>Midpoint</th>\n",
       "      <th>RungeKutta</th>\n",
       "      <th>Actual</th>\n",
       "    </tr>\n",
       "    <tr>\n",
       "      <th>t</th>\n",
       "      <th></th>\n",
       "      <th></th>\n",
       "      <th></th>\n",
       "      <th></th>\n",
       "      <th></th>\n",
       "    </tr>\n",
       "  </thead>\n",
       "  <tbody>\n",
       "    <tr>\n",
       "      <th>0.0</th>\n",
       "      <td>1.000000</td>\n",
       "      <td>1.000000</td>\n",
       "      <td>1.000000</td>\n",
       "      <td>1.000000</td>\n",
       "      <td>1.000000</td>\n",
       "    </tr>\n",
       "    <tr>\n",
       "      <th>0.1</th>\n",
       "      <td>1.200000</td>\n",
       "      <td>1.187129</td>\n",
       "      <td>1.188529</td>\n",
       "      <td>1.188119</td>\n",
       "      <td>1.188119</td>\n",
       "    </tr>\n",
       "    <tr>\n",
       "      <th>0.2</th>\n",
       "      <td>1.374257</td>\n",
       "      <td>1.344353</td>\n",
       "      <td>1.346697</td>\n",
       "      <td>1.346154</td>\n",
       "      <td>1.346154</td>\n",
       "    </tr>\n",
       "    <tr>\n",
       "      <th>0.3</th>\n",
       "      <td>1.513709</td>\n",
       "      <td>1.465527</td>\n",
       "      <td>1.468252</td>\n",
       "      <td>1.467889</td>\n",
       "      <td>1.467890</td>\n",
       "    </tr>\n",
       "    <tr>\n",
       "      <th>0.4</th>\n",
       "      <td>1.613872</td>\n",
       "      <td>1.549061</td>\n",
       "      <td>1.551663</td>\n",
       "      <td>1.551723</td>\n",
       "      <td>1.551724</td>\n",
       "    </tr>\n",
       "    <tr>\n",
       "      <th>0.5</th>\n",
       "      <td>1.674984</td>\n",
       "      <td>1.597266</td>\n",
       "      <td>1.599403</td>\n",
       "      <td>1.599999</td>\n",
       "      <td>1.600000</td>\n",
       "    </tr>\n",
       "    <tr>\n",
       "      <th>0.6</th>\n",
       "      <td>1.700985</td>\n",
       "      <td>1.615016</td>\n",
       "      <td>1.616526</td>\n",
       "      <td>1.617645</td>\n",
       "      <td>1.617647</td>\n",
       "    </tr>\n",
       "    <tr>\n",
       "      <th>0.7</th>\n",
       "      <td>1.697957</td>\n",
       "      <td>1.608321</td>\n",
       "      <td>1.609190</td>\n",
       "      <td>1.610736</td>\n",
       "      <td>1.610738</td>\n",
       "    </tr>\n",
       "    <tr>\n",
       "      <th>0.8</th>\n",
       "      <td>1.672646</td>\n",
       "      <td>1.583221</td>\n",
       "      <td>1.583522</td>\n",
       "      <td>1.585364</td>\n",
       "      <td>1.585366</td>\n",
       "    </tr>\n",
       "    <tr>\n",
       "      <th>0.9</th>\n",
       "      <td>1.631412</td>\n",
       "      <td>1.545108</td>\n",
       "      <td>1.544955</td>\n",
       "      <td>1.546960</td>\n",
       "      <td>1.546961</td>\n",
       "    </tr>\n",
       "    <tr>\n",
       "      <th>1.0</th>\n",
       "      <td>1.579669</td>\n",
       "      <td>1.498431</td>\n",
       "      <td>1.497941</td>\n",
       "      <td>1.499998</td>\n",
       "      <td>1.500000</td>\n",
       "    </tr>\n",
       "  </tbody>\n",
       "</table>\n",
       "</div>"
      ],
      "text/plain": [
       "        Euler  EulerModified  Midpoint  RungeKutta    Actual\n",
       "t                                                           \n",
       "0.0  1.000000       1.000000  1.000000    1.000000  1.000000\n",
       "0.1  1.200000       1.187129  1.188529    1.188119  1.188119\n",
       "0.2  1.374257       1.344353  1.346697    1.346154  1.346154\n",
       "0.3  1.513709       1.465527  1.468252    1.467889  1.467890\n",
       "0.4  1.613872       1.549061  1.551663    1.551723  1.551724\n",
       "0.5  1.674984       1.597266  1.599403    1.599999  1.600000\n",
       "0.6  1.700985       1.615016  1.616526    1.617645  1.617647\n",
       "0.7  1.697957       1.608321  1.609190    1.610736  1.610738\n",
       "0.8  1.672646       1.583221  1.583522    1.585364  1.585366\n",
       "0.9  1.631412       1.545108  1.544955    1.546960  1.546961\n",
       "1.0  1.579669       1.498431  1.497941    1.499998  1.500000"
      ]
     },
     "execution_count": 92,
     "metadata": {},
     "output_type": "execute_result"
    }
   ],
   "source": [
    "colnames = (\"Euler\", \"EulerModified\", \"Midpoint\", \"RungeKutta\", \"Actual\") \n",
    "res_all = pd.concat([result_euler, \n",
    "                     result_euler_mod, \n",
    "                     result_mid, \n",
    "                     result_kr, \n",
    "                     result_actual], axis=1)\n",
    "\n",
    "res_all.columns = colnames\n",
    "\n",
    "# there's a bug in pandas\n",
    "res_all.iloc[6,-1] = res_all.iloc[-1, -1]\n",
    "\n",
    "res_all.dropna(inplace=True)\n",
    "res_all"
   ]
  },
  {
   "cell_type": "code",
   "execution_count": 109,
   "id": "f934f2b0",
   "metadata": {},
   "outputs": [
    {
     "data": {
      "image/png": "[encoded data removed]",
      "text/plain": [
       "<Figure size 800x600 with 1 Axes>"
      ]
     },
     "metadata": {},
     "output_type": "display_data"
    }
   ],
   "source": [
    "import seaborn as sns\n",
    "import matplotlib.pyplot as plt\n",
    "\n",
    "plt.figure(figsize=(8, 6))\n",
    "ax = plt.gca()\n",
    "\n",
    "ax.plot(res_all.index, res_all['Actual'], color='red', linestyle='-', label='Actual')\n",
    "\n",
    "res_approximations = res_all.drop(columns=['Actual'])\n",
    "for col in res_approximations.columns:\n",
    "    sns.lineplot(data=res_approximations, x=res_approximations.index, y=col,\n",
    "                 ax=ax, linestyle='--', label=col)\n",
    "plt.xlabel('t')\n",
    "plt.ylabel('y(t)')\n",
    "plt.title(r\"Approximations solution for $ y' = \\frac{2 - 2ty}{t^2 + 1}$\");\n",
    "\n",
    "plt.legend()\n",
    "plt.grid(True, linestyle='--', alpha=0.6)\n",
    "plt.show()"
   ]
  },
  {
   "cell_type": "markdown",
   "id": "ce999495",
   "metadata": {},
   "source": [
    "With the graph above, it becomes visually clear the difference of the approximations to the actual solutions.\n",
    "\n",
    "As we can see, the `Euler` (blue dashed line) method is well above the `Actual` (red solid line). This indicates the `Euler` is the least accurate. Also, the error seemse to increase the greater the value of `t` becomes. This is because we are approximating from approximations themselves. So the further we go up, the more error they accumulate.\n",
    "\n",
    "It seems too that the other approximations are much closer to the actual and each other so let us investigate further."
   ]
  },
  {
   "cell_type": "code",
   "execution_count": null,
   "id": "cf17741c",
   "metadata": {},
   "outputs": [
    {
     "data": {
      "image/png": "[encoded data removed]",
      "text/plain": [
       "<Figure size 800x600 with 2 Axes>"
      ]
     },
     "metadata": {},
     "output_type": "display_data"
    }
   ],
   "source": [
    "app = res_all.drop(columns=\"Actual\")\n",
    "act = res_all['Actual']\n",
    "diff = app.sub(act, axis=0)\n",
    "abs_diff = np.abs(diff)\n",
    "\n",
    "plt.figure(figsize=(8, 6))\n",
    "sns.heatmap(abs_diff, cmap='viridis')\n",
    "plt.xlabel('Method')\n",
    "plt.ylabel('t')\n",
    "plt.title('Absolute Error Heatmap (Approximation - Actual)');\n",
    "plt.show()"
   ]
  },
  {
   "cell_type": "markdown",
   "id": "3de3b0dc",
   "metadata": {},
   "source": [
    "By the error heatmap above, we can now see that `Euler` is the least accurate approximations. Followed by the `EulerModified` then `Midpoint` and finally `RungeKutta` as the most accurate one. "
   ]
  },
  {
   "cell_type": "code",
   "execution_count": 111,
   "id": "d9e46621",
   "metadata": {},
   "outputs": [
    {
     "data": {
      "image/png": "[encoded data removed]",
      "text/plain": [
       "<Figure size 800x600 with 2 Axes>"
      ]
     },
     "metadata": {},
     "output_type": "display_data"
    }
   ],
   "source": [
    "app = res_all.drop(columns=[\"Actual\", \"Euler\"])\n",
    "act = res_all['Actual']\n",
    "diff = app.sub(act, axis=0)\n",
    "abs_diff = np.abs(diff)\n",
    "\n",
    "plt.figure(figsize=(8, 6))\n",
    "sns.heatmap(abs_diff, cmap='viridis')\n",
    "plt.xlabel('Method')\n",
    "plt.ylabel('t')\n",
    "plt.title('Absolute Error Heatmap (Approximation - Actual) [Without Euler]');\n",
    "plt.show()"
   ]
  },
  {
   "cell_type": "markdown",
   "id": "06d54efe",
   "metadata": {},
   "source": [
    "`Runge-Kutta` did really well!! "
   ]
  },
  {
   "cell_type": "markdown",
   "id": "0723750c",
   "metadata": {},
   "source": [
    "---\n"
   ]
  },
  {
   "cell_type": "markdown",
   "id": "4f70da3d",
   "metadata": {},
   "source": [
    "## Use the Runge-Kutta for Systems Algorithm to approximate the solutions of the following differential equations. For each item, and each solution, plot the points and graph the the actual solution on one plane to compare\n",
    "\n",
    "$$\n",
    "\\begin{aligned}\n",
    "u_1' &= u_1 + 2u_2 - 2u_3 + e^{-t} \\\\\n",
    "u_2' &= u_2 + u_3 - 2e^{-t} \\\\\n",
    "u_3' &= u_1 + 2u_2 + e^{-t}\n",
    "\\end{aligned}\n",
    "\n",
    "$$\n",
    "$u_1(0) = 3, u_2(0) = -1, u_3(0) = 1, \\quad 0 \\leq t \\leq 1, \\quad \\\\ h = 0.1$ with actual solution:\n",
    "$$\n",
    "\n",
    "\\begin{aligned}\n",
    "u_1(t) &= -3e^{-t} - 3 \\sin t + 6 \\cos t \\\\\n",
    "u_2(t) &= \\frac{3}{2}e^{-t} + \\frac{3}{10} \\sin t - \\frac{21}{10} \\cos t - \\frac{2}{5}e^{2t} \\\\\n",
    "u_3(t) &= -e^{-t} + \\frac{12}{5} \\cos t + \\frac{9}{5} \\sin t - \\frac{2}{5}e^{2t}\n",
    "\\end{aligned}\n",
    "$$"
   ]
  },
  {
   "cell_type": "code",
   "execution_count": null,
   "id": "568c60b3",
   "metadata": {},
   "outputs": [
    {
     "data": {
      "text/html": [
       "<div>\n",
       "<style scoped>\n",
       "    .dataframe tbody tr th:only-of-type {\n",
       "        vertical-align: middle;\n",
       "    }\n",
       "\n",
       "    .dataframe tbody tr th {\n",
       "        vertical-align: top;\n",
       "    }\n",
       "\n",
       "    .dataframe thead th {\n",
       "        text-align: right;\n",
       "    }\n",
       "</style>\n",
       "<table border=\"1\" class=\"dataframe\">\n",
       "  <thead>\n",
       "    <tr style=\"text-align: right;\">\n",
       "      <th></th>\n",
       "      <th>u1</th>\n",
       "      <th>u2</th>\n",
       "      <th>u3</th>\n",
       "    </tr>\n",
       "    <tr>\n",
       "      <th>t</th>\n",
       "      <th></th>\n",
       "      <th></th>\n",
       "      <th></th>\n",
       "    </tr>\n",
       "  </thead>\n",
       "  <tbody>\n",
       "    <tr>\n",
       "      <th>0.0</th>\n",
       "      <td>3.000000</td>\n",
       "      <td>-1.000000</td>\n",
       "      <td>1.000000</td>\n",
       "    </tr>\n",
       "    <tr>\n",
       "      <th>0.1</th>\n",
       "      <td>2.956013</td>\n",
       "      <td>-1.190863</td>\n",
       "      <td>1.174312</td>\n",
       "    </tr>\n",
       "    <tr>\n",
       "      <th>0.2</th>\n",
       "      <td>2.828200</td>\n",
       "      <td>-1.367171</td>\n",
       "      <td>1.294305</td>\n",
       "    </tr>\n",
       "    <tr>\n",
       "      <th>0.3</th>\n",
       "      <td>2.623005</td>\n",
       "      <td>-1.535167</td>\n",
       "      <td>1.355081</td>\n",
       "    </tr>\n",
       "    <tr>\n",
       "      <th>0.4</th>\n",
       "      <td>2.347153</td>\n",
       "      <td>-1.702133</td>\n",
       "      <td>1.350968</td>\n",
       "    </tr>\n",
       "    <tr>\n",
       "      <th>0.5</th>\n",
       "      <td>2.007630</td>\n",
       "      <td>-1.876603</td>\n",
       "      <td>1.275330</td>\n",
       "    </tr>\n",
       "    <tr>\n",
       "      <th>0.6</th>\n",
       "      <td>1.611655</td>\n",
       "      <td>-2.068628</td>\n",
       "      <td>1.120317</td>\n",
       "    </tr>\n",
       "    <tr>\n",
       "      <th>0.7</th>\n",
       "      <td>1.166649</td>\n",
       "      <td>-2.290085</td>\n",
       "      <td>0.876569</td>\n",
       "    </tr>\n",
       "    <tr>\n",
       "      <th>0.8</th>\n",
       "      <td>0.680190</td>\n",
       "      <td>-2.555068</td>\n",
       "      <td>0.532825</td>\n",
       "    </tr>\n",
       "    <tr>\n",
       "      <th>0.9</th>\n",
       "      <td>0.159976</td>\n",
       "      <td>-2.880347</td>\n",
       "      <td>0.075466</td>\n",
       "    </tr>\n",
       "    <tr>\n",
       "      <th>1.0</th>\n",
       "      <td>-0.386230</td>\n",
       "      <td>-3.285941</td>\n",
       "      <td>-0.512070</td>\n",
       "    </tr>\n",
       "  </tbody>\n",
       "</table>\n",
       "</div>"
      ],
      "text/plain": [
       "           u1        u2        u3\n",
       "t                                \n",
       "0.0  3.000000 -1.000000  1.000000\n",
       "0.1  2.956013 -1.190863  1.174312\n",
       "0.2  2.828200 -1.367171  1.294305\n",
       "0.3  2.623005 -1.535167  1.355081\n",
       "0.4  2.347153 -1.702133  1.350968\n",
       "0.5  2.007630 -1.876603  1.275330\n",
       "0.6  1.611655 -2.068628  1.120317\n",
       "0.7  1.166649 -2.290085  0.876569\n",
       "0.8  0.680190 -2.555068  0.532825\n",
       "0.9  0.159976 -2.880347  0.075466\n",
       "1.0 -0.386230 -3.285941 -0.512070"
      ]
     },
     "execution_count": 116,
     "metadata": {},
     "output_type": "execute_result"
    }
   ],
   "source": [
    "def f(t, u):\n",
    "    u1 = u[0]\n",
    "    u2 = u[1]\n",
    "    u3 = u[2]\n",
    "    du1dt = u1 + 2*u2 - 2*u3 + math.exp(-t)\n",
    "    du2dt = u2 + u3 - 2*math.exp(-t)\n",
    "    du3dt = u1 + 2*u2 + math.exp(-t)\n",
    "    return np.array([du1dt, du2dt, du3dt])\n",
    "\n",
    "a = 0.0\n",
    "b = 1.0\n",
    "N = 10\n",
    "h = (b - a) / N\n",
    "t = a\n",
    "w = np.array([3.0, -1.0, 1.0])\n",
    "\n",
    "results = []\n",
    "results.append({'t': t, 'u1': w[0], 'u2': w[1], 'u3': w[2]})\n",
    "\n",
    "for i in range(1, N + 1):\n",
    "    k1 = h * f(t, w)\n",
    "    k2 = h * f(t + h/2, w + k1/2)\n",
    "    k3 = h * f(t + h/2, w + k2/2)\n",
    "    k4 = h * f(t + h, w + k3)\n",
    "\n",
    "    w = w + (k1 + 2*k2 + 2*k3 + k4) / 6.0\n",
    "    t = a + i * h\n",
    "\n",
    "    results.append({'t': t, 'u1': w[0], 'u2': w[1], 'u3': w[2]})\n",
    "\n",
    "rk4_results = pd.DataFrame(results).set_index('t')\n",
    "rk4_results\n"
   ]
  },
  {
   "cell_type": "code",
   "execution_count": 134,
   "id": "5aee7f54",
   "metadata": {},
   "outputs": [
    {
     "data": {
      "text/html": [
       "<div>\n",
       "<style scoped>\n",
       "    .dataframe tbody tr th:only-of-type {\n",
       "        vertical-align: middle;\n",
       "    }\n",
       "\n",
       "    .dataframe tbody tr th {\n",
       "        vertical-align: top;\n",
       "    }\n",
       "\n",
       "    .dataframe thead th {\n",
       "        text-align: right;\n",
       "    }\n",
       "</style>\n",
       "<table border=\"1\" class=\"dataframe\">\n",
       "  <thead>\n",
       "    <tr style=\"text-align: right;\">\n",
       "      <th></th>\n",
       "      <th>u1_actual</th>\n",
       "      <th>u2_actual</th>\n",
       "      <th>u3_actual</th>\n",
       "    </tr>\n",
       "    <tr>\n",
       "      <th>t</th>\n",
       "      <th></th>\n",
       "      <th></th>\n",
       "      <th></th>\n",
       "    </tr>\n",
       "  </thead>\n",
       "  <tbody>\n",
       "    <tr>\n",
       "      <th>0.0</th>\n",
       "      <td>3.000000</td>\n",
       "      <td>-1.000000</td>\n",
       "      <td>1.000000</td>\n",
       "    </tr>\n",
       "    <tr>\n",
       "      <th>0.1</th>\n",
       "      <td>2.956012</td>\n",
       "      <td>-1.190864</td>\n",
       "      <td>1.174312</td>\n",
       "    </tr>\n",
       "    <tr>\n",
       "      <th>0.2</th>\n",
       "      <td>2.828199</td>\n",
       "      <td>-1.367173</td>\n",
       "      <td>1.294304</td>\n",
       "    </tr>\n",
       "    <tr>\n",
       "      <th>0.3</th>\n",
       "      <td>2.623004</td>\n",
       "      <td>-1.535171</td>\n",
       "      <td>1.355078</td>\n",
       "    </tr>\n",
       "    <tr>\n",
       "      <th>0.4</th>\n",
       "      <td>2.347151</td>\n",
       "      <td>-1.702139</td>\n",
       "      <td>1.350963</td>\n",
       "    </tr>\n",
       "    <tr>\n",
       "      <th>0.5</th>\n",
       "      <td>2.007627</td>\n",
       "      <td>-1.876612</td>\n",
       "      <td>1.275321</td>\n",
       "    </tr>\n",
       "    <tr>\n",
       "      <th>0.6</th>\n",
       "      <td>1.611651</td>\n",
       "      <td>-2.068641</td>\n",
       "      <td>1.120304</td>\n",
       "    </tr>\n",
       "    <tr>\n",
       "      <th>0.7</th>\n",
       "      <td>1.166644</td>\n",
       "      <td>-2.290105</td>\n",
       "      <td>0.876548</td>\n",
       "    </tr>\n",
       "    <tr>\n",
       "      <th>0.8</th>\n",
       "      <td>0.680185</td>\n",
       "      <td>-2.555097</td>\n",
       "      <td>0.532795</td>\n",
       "    </tr>\n",
       "    <tr>\n",
       "      <th>0.9</th>\n",
       "      <td>0.159970</td>\n",
       "      <td>-2.880387</td>\n",
       "      <td>0.075424</td>\n",
       "    </tr>\n",
       "    <tr>\n",
       "      <th>1.0</th>\n",
       "      <td>-0.386237</td>\n",
       "      <td>-3.285997</td>\n",
       "      <td>-0.512129</td>\n",
       "    </tr>\n",
       "  </tbody>\n",
       "</table>\n",
       "</div>"
      ],
      "text/plain": [
       "     u1_actual  u2_actual  u3_actual\n",
       "t                                   \n",
       "0.0   3.000000  -1.000000   1.000000\n",
       "0.1   2.956012  -1.190864   1.174312\n",
       "0.2   2.828199  -1.367173   1.294304\n",
       "0.3   2.623004  -1.535171   1.355078\n",
       "0.4   2.347151  -1.702139   1.350963\n",
       "0.5   2.007627  -1.876612   1.275321\n",
       "0.6   1.611651  -2.068641   1.120304\n",
       "0.7   1.166644  -2.290105   0.876548\n",
       "0.8   0.680185  -2.555097   0.532795\n",
       "0.9   0.159970  -2.880387   0.075424\n",
       "1.0  -0.386237  -3.285997  -0.512129"
      ]
     },
     "execution_count": 134,
     "metadata": {},
     "output_type": "execute_result"
    }
   ],
   "source": [
    "\n",
    "def actual_solution(t):\n",
    "    u1 = -3 * math.exp(-t) - 3 * math.sin(t) + 6 * math.cos(t)\n",
    "    u2 = (3/2) * math.exp(-t) + (3/10) * math.sin(t) - (21/10) * math.cos(t) - (2/5) * math.exp(2*t)\n",
    "    u3 = -math.exp(-t) + (12/5) * math.cos(t) + (9/5) * math.sin(t) - (2/5) * math.exp(2*t)\n",
    "    return np.array([u1, u2, u3])\n",
    "\n",
    "actual_results = []\n",
    "for i in range(N + 1):\n",
    "    t_i = a + i * h\n",
    "    u_actual = actual_solution(t_i)\n",
    "    actual_results.append({'t': t_i, 'u1_actual': u_actual[0], 'u2_actual': u_actual[1], 'u3_actual': u_actual[2]})\n",
    "\n",
    "actual_df = pd.DataFrame(actual_results).set_index('t')\n",
    "actual_df"
   ]
  },
  {
   "cell_type": "code",
   "execution_count": 133,
   "id": "f3d217d4",
   "metadata": {},
   "outputs": [
    {
     "data": {
      "image/png": "[encoded data removed]",
      "text/plain": [
       "<Figure size 1500x500 with 3 Axes>"
      ]
     },
     "metadata": {},
     "output_type": "display_data"
    }
   ],
   "source": [
    "fig, ax = plt.subplots(ncols=3, figsize=(15,5))\n",
    "ax=ax.flatten()\n",
    "\n",
    "for i in range(3):\n",
    "    sns.lineplot(actual_df.iloc[:,i], ax=ax[i], label=\"Actual Solution\", alpha=0.40)\n",
    "    sns.lineplot(rk4_results.iloc[:,i], ax=ax[i], linestyle='--', label=\"Runge-Kutta Approx\")\n",
    "\n",
    "    if i == 0:\n",
    "        ax[i].set_title(r\"Solution and Approximation for $\\mu_1$\")\n",
    "    elif i == 1:\n",
    "        ax[i].set_title(r\"Solution and Approximation for $\\mu_2$\")\n",
    "    else:\n",
    "        ax[i].set_title(r\"Solution and Approximation for $\\mu_3$\")\n",
    "\n",
    "plt.tight_layout()"
   ]
  },
  {
   "cell_type": "markdown",
   "id": "848133b0",
   "metadata": {},
   "source": [
    "Well the Runge-Kutta for Systems Algorithm seem to approximate the actual solutions really well. They are almost exactly the same with some error that are unnoticable if we graph them together"
   ]
  },
  {
   "cell_type": "markdown",
   "id": "4d06e351",
   "metadata": {},
   "source": [
    "---"
   ]
  },
  {
   "cell_type": "code",
   "execution_count": 16,
   "id": "25f20c36",
   "metadata": {},
   "outputs": [],
   "source": [
    "import math\n",
    "import regex\n",
    "import pandas as pd\n",
    "\n",
    "class Sipnayan:\n",
    "    def __init__(self, math_object, regex, pd):\n",
    "        self.math_object = math_object\n",
    "        self.reg = regex\n",
    "        self.pd = pd\n",
    "\n",
    "    def number_solver(self, equation):\n",
    "        return eval(equation)\n",
    "    \n",
    "    def eq_solver(self, equation, var_val, var=\"x\"):\n",
    "        \"\"\"\"var != e\n",
    "        Note to future romand: make varaible a list instead for equations beyond 2d\n",
    "        \"\"\"\n",
    "        # print(f\"Original: {equation}\")\n",
    "        equation = equation.replace(var, str(var_val))\n",
    "        # print(f\"Parsed: {equation}\")\n",
    "        # Check for other variable other than specified var\n",
    "        if (self.check_for_other_var(equation, var)):\n",
    "            return f\"Letters detected aside from independent variable ({var})\"\n",
    "        operations = [\"e\", \"cos\", \"sin\", \"tan\", \"ln\"]\n",
    "        if any(operation in equation for operation in operations):\n",
    "            return eval(self.nested_handler(equation))\n",
    "        return self.number_solver(equation)\n",
    "\n",
    "    def trigo(self, trig_op, arg):\n",
    "        match str(trig_op):\n",
    "            case \"cos\":\n",
    "                return self.math_object.cos(arg)\n",
    "            case \"sin\":\n",
    "                return self.math_object.sin(arg)\n",
    "            case \"tan\":\n",
    "                return self.math_object.tan(arg)\n",
    "            case default:\n",
    "                return \"invalid argument\"\n",
    "                \n",
    "    def exp_solve(self, arg):\n",
    "        \"\"\"For e^x with x as arg\"\"\"\n",
    "        return self.math_object.exp(arg)\n",
    "\n",
    "    def ln_solve(self, arg):\n",
    "        return self.math_object.log(arg)\n",
    "    \n",
    "    def nested_handler(self, equation):\n",
    "        operations = [\"e\\\\^\", \"cos\", \"sin\", \"tan\", \"ln\"]\n",
    "        ops = [\"e\", \"cos\", \"sin\", \"tan\", \"ln\"]\n",
    "        # print(f\"Processing equation: {equation}\")\n",
    "        \n",
    "        pat = rf'({\"|\".join(operations)})\\(((?:[^\\(\\)]+|(?R))*)\\)'\n",
    "        # print(f\"Regex pattern: {pat}\")\n",
    "        \n",
    "        while any(operation in equation for operation in ops):\n",
    "            match = regex.search(pat, equation)\n",
    "            if not match:\n",
    "                break\n",
    "\n",
    "            opp = match.group(1)\n",
    "            ovr_expression = match.group(0)  \n",
    "            argument = match.group(2) \n",
    "            # print(f\"Matched operation: {ovr_expression}, Argument: {argument}\")\n",
    "    \n",
    "            if any(operation in argument for operation in ops):\n",
    "                argument = self.nested_handler(argument)\n",
    "    \n",
    "            equation = self.special_operations(opp, ovr_expression, argument, equation)\n",
    "            # print(f\"Updated equation: {equation}\")\n",
    "        \n",
    "        return equation\n",
    "            \n",
    "    def special_operations(self, opp, ovr_expression, argument, equation):\n",
    "        # print(f\"Processing {opp} with argument: {argument}\")\n",
    "        try:\n",
    "            if \"e\" in opp:\n",
    "                result = self.exp_solve(eval(argument))\n",
    "            elif \"ln\" in opp:\n",
    "                result = self.ln_solve(eval(argument))\n",
    "            else:\n",
    "                result = self.trigo(opp, eval(argument))\n",
    "        except Exception as e:\n",
    "            print(f\"Error in {opp}: {e}\")\n",
    "            return equation\n",
    "    \n",
    "        updated_equation = equation.replace(ovr_expression, str(result))\n",
    "        return updated_equation\n",
    "\n",
    "\n",
    "\n",
    "    def check_for_other_var(self, equation, var):\n",
    "        remove = ['cos', 'sin', 'tan', 'e', \"ln\"]\n",
    "        for opp in remove:\n",
    "            equation = equation.replace(opp,\"\")\n",
    "        for i in equation:\n",
    "            if i.isalpha() and i != var:\n",
    "                return True\n",
    "        return False\n",
    "\n",
    "sip = Sipnayan(math, regex, pd)"
   ]
  }
 ],
 "metadata": {
  "kernelspec": {
   "display_name": "venv",
   "language": "python",
   "name": "venv"
  },
  "language_info": {
   "codemirror_mode": {
    "name": "ipython",
    "version": 3
   },
   "file_extension": ".py",
   "mimetype": "text/x-python",
   "name": "python",
   "nbconvert_exporter": "python",
   "pygments_lexer": "ipython3",
   "version": "3.12.3"
  }
 },
 "nbformat": 4,
 "nbformat_minor": 5
}
