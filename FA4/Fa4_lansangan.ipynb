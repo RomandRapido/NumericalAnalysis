{
 "cells": [
  {
   "cell_type": "markdown",
   "id": "e085bb81",
   "metadata": {},
   "source": [
    "### Numerical Analysis\n",
    "(Formative Assessment 4)\n",
    "\n",
    "**Romand Lansangan**\n",
    "\n",
    "---"
   ]
  },
  {
   "cell_type": "code",
   "execution_count": 1,
   "id": "5e00333f",
   "metadata": {},
   "outputs": [],
   "source": [
    "import numpy as np \n",
    "import pandas as pd"
   ]
  },
  {
   "cell_type": "markdown",
   "id": "bc977add",
   "metadata": {},
   "source": [
    "## $\\int_0^2 x^2 \\ln(x^2 + 1) dx$ using $h = 0.25$. \n",
    "\n",
    "The interval is $[a, b] = [0, 2]$, and the number of subintervals is $n = \\frac{b-a}{h} = \\frac{2-0}{0.25} = 8$.\n",
    "\n",
    "$x_j = a + jh$ for each $j=0,1, . . . , n$ "
   ]
  },
  {
   "cell_type": "code",
   "execution_count": 28,
   "id": "1ff854ac",
   "metadata": {},
   "outputs": [
    {
     "data": {
      "text/plain": [
       "array([0.  , 0.25, 0.5 , 0.75, 1.  , 1.25, 1.5 , 1.75, 2.  ])"
      ]
     },
     "execution_count": 28,
     "metadata": {},
     "output_type": "execute_result"
    }
   ],
   "source": [
    "n = 8\n",
    "h_s = np.linspace(0, 2, n+1)\n",
    "h_s"
   ]
  },
  {
   "cell_type": "markdown",
   "id": "4a40b1c8",
   "metadata": {},
   "source": [
    "f(x_j)"
   ]
  },
  {
   "cell_type": "code",
   "execution_count": 38,
   "id": "0ffa5a52",
   "metadata": {},
   "outputs": [
    {
     "data": {
      "text/plain": [
       "0    0.000000\n",
       "1    0.003789\n",
       "2    0.055786\n",
       "3    0.251036\n",
       "4    0.693147\n",
       "5    1.470286\n",
       "6    2.651974\n",
       "7    4.293008\n",
       "8    6.437752\n",
       "dtype: float64"
      ]
     },
     "execution_count": 38,
     "metadata": {},
     "output_type": "execute_result"
    }
   ],
   "source": [
    "eq = \"(x**2) * ln(x**2 + 1)\"\n",
    "\n",
    "fh = [sip.eq_solver(eq, h) for h in h_s]\n",
    "fh_ = pd.Series(fh)\n",
    "fh_"
   ]
  },
  {
   "cell_type": "markdown",
   "id": "baa1047c",
   "metadata": {},
   "source": [
    "### Composite Trapezoidal Rule\n",
    "\n",
    "Recall that the formula for Composite Trapezoidal Rule is:\n",
    "\n",
    "$$\\int_a^b f(x) dx \\approx \\frac{h}{2} [f(x_0) + 2\\sum_{j=1}^{n-1} f(x_j) + f(x_n)]$$\n",
    "\n"
   ]
  },
  {
   "cell_type": "markdown",
   "id": "e5e29592",
   "metadata": {},
   "source": [
    "\n",
    "With $h=0.25$ and $n=8$; \n",
    "\n",
    "$$\n",
    "\\int_0^2 x^2 \\ln(x^2 + 1) dx \\approx \\frac{0.25}{2} [f(a) + 2\\sum_{j=1}^{7} f(x_j) + f(b)]\n",
    "$$\n",
    "\n",
    "Lets start with $ 2\\sum_{j=1}^{n-1} f(j)$"
   ]
  },
  {
   "cell_type": "markdown",
   "id": "d83dd102",
   "metadata": {},
   "source": [
    "$$ 2\\sum_{j=1}^{7} f(x_j)$$"
   ]
  },
  {
   "cell_type": "code",
   "execution_count": 59,
   "id": "25b03484",
   "metadata": {},
   "outputs": [
    {
     "data": {
      "text/plain": [
       "1    0.003789\n",
       "2    0.055786\n",
       "3    0.251036\n",
       "4    0.693147\n",
       "5    1.470286\n",
       "6    2.651974\n",
       "7    4.293008\n",
       "dtype: float64"
      ]
     },
     "execution_count": 59,
     "metadata": {},
     "output_type": "execute_result"
    }
   ],
   "source": [
    "first_ind = list(range(1,8))\n",
    "\n",
    "first_ = fh_[first_ind]\n",
    "first_"
   ]
  },
  {
   "cell_type": "code",
   "execution_count": null,
   "id": "78af91e0",
   "metadata": {},
   "outputs": [
    {
     "data": {
      "text/plain": [
       "18.83805374434219"
      ]
     },
     "execution_count": 58,
     "metadata": {},
     "output_type": "execute_result"
    }
   ],
   "source": [
    "first_sum = first_.sum() * 2\n",
    "first_sum"
   ]
  },
  {
   "cell_type": "markdown",
   "id": "b019ffcc",
   "metadata": {},
   "source": [
    "$$\n",
    "\\int_0^2 x^2 \\ln(x^2 + 1) dx \\approx \\frac{0.25}{2} [f(a) + 2\\sum_{j=1}^{7} f(x_j) + f(b)]\n",
    "$$"
   ]
  },
  {
   "cell_type": "code",
   "execution_count": 66,
   "id": "f903b9fb",
   "metadata": {},
   "outputs": [
    {
     "name": "stdout",
     "output_type": "stream",
     "text": [
      "Inside term: 25.275805394078592\n",
      "Approximate using Composite Trapezoidal Rule: 3.159475674259824\n"
     ]
    }
   ],
   "source": [
    "inside_term = fh_[0] + first_sum + fh_[n]\n",
    "\n",
    "print(\"Inside term:\", inside_term)\n",
    "\n",
    "outside_term = 0.25 / 2\n",
    "\n",
    "approximate_1 = outside_term * inside_term\n",
    "\n",
    "print(\"Approximate using Composite Trapezoidal Rule:\", approximate_1)"
   ]
  },
  {
   "cell_type": "markdown",
   "id": "96b19d89",
   "metadata": {},
   "source": [
    "$$\\int_0^2 x^2 \\ln(x^2 + 1) dx \\approx 3.159475674259824$$"
   ]
  },
  {
   "cell_type": "markdown",
   "id": "b7430c08",
   "metadata": {},
   "source": [
    "### Composite Simpson's Rule\n",
    "Recall that the formula for composite Simpson's rule is:\n",
    "\n",
    "$$\n",
    "\\int_a^b f(x) dx = \\frac{h}{3} [f(a) + 2 \\sum^{(n/2) - 1}_{j=1} f(x_{2j}) + 4 \\sum^{n/2}_{j=1} f(x_{2j-1}) + f(b)] - \\text{error term} \n",
    "$$"
   ]
  },
  {
   "cell_type": "markdown",
   "id": "4df14b13",
   "metadata": {},
   "source": [
    "\n",
    "With $h=0.25$ and $n=8$; \n",
    "\n",
    "$$\n",
    "\\int_0^2 x^2 \\ln(x^2 + 1) dx = \\frac{0.25}{3} [f(a) + 2 \\sum^{3}_{j=1} f(x_{2j}) + 4 \\sum^{4}_{j=1} f(x_{2j-1}) + f(b)] - \\text{error term} \n",
    "$$\n",
    "\n",
    "For $2 \\sum^{(n/2) - 1}_{j=1} f(x_{2j})$\n",
    "\n",
    "$$2 \\sum^{(8/2) - 1}_{j=1} f(x_{2j})$$\n",
    "$$2 \\sum^{3}_{j=1} f(x_{2j})$$\n",
    "$$2[f(x_2) + f(x_4) + f(x_6)]$$"
   ]
  },
  {
   "cell_type": "code",
   "execution_count": 68,
   "id": "4f87666d",
   "metadata": {},
   "outputs": [
    {
     "data": {
      "text/plain": [
       "2    0.111572\n",
       "4    1.386294\n",
       "6    5.303947\n",
       "dtype: float64"
      ]
     },
     "execution_count": 68,
     "metadata": {},
     "output_type": "execute_result"
    }
   ],
   "source": [
    "first_ind = [2, 4, 6]\n",
    "first_ = fh_[first_ind]*2\n",
    "first_"
   ]
  },
  {
   "cell_type": "code",
   "execution_count": 69,
   "id": "45ff10c3",
   "metadata": {},
   "outputs": [
    {
     "data": {
      "text/plain": [
       "6.801813620314403"
      ]
     },
     "execution_count": 69,
     "metadata": {},
     "output_type": "execute_result"
    }
   ],
   "source": [
    "first_sum = first_.sum()\n",
    "first_sum"
   ]
  },
  {
   "cell_type": "markdown",
   "id": "cc460e37",
   "metadata": {},
   "source": [
    "For $4 \\sum^{n/2}_{j=1} f(x_{2j-1})$\n",
    "\n",
    "$$4 \\sum^{4}_{j=1} f(x_{2j-1})$$\n",
    "$$4[f(x_1) + f(x_3) + f(x_5) + f(x_7)]$$"
   ]
  },
  {
   "cell_type": "code",
   "execution_count": 70,
   "id": "55f33cfc",
   "metadata": {},
   "outputs": [
    {
     "data": {
      "text/plain": [
       "1     0.015156\n",
       "3     1.004146\n",
       "5     5.881146\n",
       "7    17.172032\n",
       "dtype: float64"
      ]
     },
     "execution_count": 70,
     "metadata": {},
     "output_type": "execute_result"
    }
   ],
   "source": [
    "second_ind = [1,3,5,7]\n",
    "second_ = fh_[second_ind]*4\n",
    "second_"
   ]
  },
  {
   "cell_type": "code",
   "execution_count": 71,
   "id": "70ec32c3",
   "metadata": {},
   "outputs": [
    {
     "data": {
      "text/plain": [
       "24.072480248055577"
      ]
     },
     "execution_count": 71,
     "metadata": {},
     "output_type": "execute_result"
    }
   ],
   "source": [
    "second_sum = second_.sum()\n",
    "second_sum"
   ]
  },
  {
   "cell_type": "markdown",
   "id": "078ac10a",
   "metadata": {},
   "source": [
    "$$\n",
    "\\int_0^2 x^2 \\ln(x^2 + 1) dx = \\frac{0.25}{3} [f(a) + 2 \\sum^{3}_{j=1} f(x_{2j}) + 4 \\sum^{4}_{j=1} f(x_{2j-1}) + f(b)] - \\text{error term} \n",
    "$$"
   ]
  },
  {
   "cell_type": "code",
   "execution_count": 73,
   "id": "a8afe4d0",
   "metadata": {},
   "outputs": [
    {
     "name": "stdout",
     "output_type": "stream",
     "text": [
      "Inside Term: 37.31204551810638\n",
      "Approximate using Composite Simpson's Rule: 3.1093371265088647\n"
     ]
    }
   ],
   "source": [
    "fa = fh_[0]\n",
    "fb = fh_[n]\n",
    "inside_term = fa+fb+first_sum+second_sum\n",
    "print(\"Inside Term:\", inside_term)\n",
    "\n",
    "outside_term = 0.25 / 3\n",
    "\n",
    "approximate_2 = inside_term*outside_term\n",
    "print(\"Approximate using Composite Simpson's Rule:\", approximate_2)"
   ]
  },
  {
   "cell_type": "markdown",
   "id": "c31f7608",
   "metadata": {},
   "source": [
    "$$\\int_0^2 x^2 \\ln(x^2 + 1) dx \\approx 3.1093371265088647$$"
   ]
  },
  {
   "cell_type": "markdown",
   "id": "807e9dea",
   "metadata": {},
   "source": [
    "### Composite Midpoint Rule\n",
    "\n",
    "Recall that the formula for Composite Midpoint Rule is:\n",
    "\n",
    "$$\n",
    "\\int_a^b f(x) dx \\approx 2h \\sum^{n/2}_{j=0} f(x_{2j})\n",
    "$$\n",
    "\n",
    "but h is different in this.\n",
    "\n",
    "$$h = \\frac{b-a}{n+2} $$\n",
    "\n",
    "$$0.25 = \\frac{2-0}{n+2}$$\n",
    "\n",
    "$$n+2 = 2/0.25 = 8$$\n",
    "\n",
    "$$ n = 8-2 = 6$$\n",
    "\n",
    "$x_j =a + (j+1)h$ for $j = -1, 0, ..., n+1$\n",
    " "
   ]
  },
  {
   "cell_type": "code",
   "execution_count": 85,
   "id": "c154e514",
   "metadata": {},
   "outputs": [
    {
     "data": {
      "text/plain": [
       "-1    0.000000\n",
       " 0    0.003789\n",
       " 1    0.055786\n",
       " 2    0.251036\n",
       " 3    0.693147\n",
       " 4    1.470286\n",
       " 5    2.651974\n",
       " 6    4.293008\n",
       " 7    6.437752\n",
       "dtype: float64"
      ]
     },
     "execution_count": 85,
     "metadata": {},
     "output_type": "execute_result"
    }
   ],
   "source": [
    "n = 6\n",
    "h = 0.25\n",
    "a = 0\n",
    "x = [a + (j+1)*h for j in range(-1, n+2)]\n",
    "f_x = [sip.eq_solver(eq, x) for x in x]\n",
    "f_x_ = pd.Series(f_x, index=list(range(-1,n+2)))\n",
    "\n",
    "f_x_"
   ]
  },
  {
   "cell_type": "markdown",
   "id": "8d2093a0",
   "metadata": {},
   "source": [
    "\n",
    "\n",
    "$$\\int_0^2 x^2 \\ln(x^2 + 1) dx \\approx 2(0.25) \\sum^{3.5}_{j=0} f(x_{2j})$$\n",
    "\n",
    "\n",
    "$$ \\approx 0.5[f(0) + f(2) + f(4) + f(6)]$$\n"
   ]
  },
  {
   "cell_type": "code",
   "execution_count": 88,
   "id": "18c81920",
   "metadata": {},
   "outputs": [
    {
     "data": {
      "text/plain": [
       "0    0.003789\n",
       "2    0.251036\n",
       "4    1.470286\n",
       "6    4.293008\n",
       "dtype: float64"
      ]
     },
     "execution_count": 88,
     "metadata": {},
     "output_type": "execute_result"
    }
   ],
   "source": [
    "f_ind = list(range(0,7, 2))\n",
    "\n",
    "inside_term = f_x_[f_ind]\n",
    "inside_term"
   ]
  },
  {
   "cell_type": "code",
   "execution_count": 90,
   "id": "31c0e7d0",
   "metadata": {},
   "outputs": [
    {
     "name": "stdout",
     "output_type": "stream",
     "text": [
      "Inside Sum: 6.018120062013894\n",
      "Approximate using Composite Midpoint Rule: 3.009060031006947\n"
     ]
    }
   ],
   "source": [
    "inside_term_sum = inside_term.sum()\n",
    "\n",
    "print(\"Inside Sum:\", inside_term_sum)\n",
    "\n",
    "approximate_3 = 0.5 * inside_term_sum\n",
    "\n",
    "print(\"Approximate using Composite Midpoint Rule:\", approximate_3)"
   ]
  },
  {
   "cell_type": "markdown",
   "id": "a742fff3",
   "metadata": {},
   "source": [
    "$$\\int_0^2 x^2 \\ln(x^2 + 1) dx \\approx 3.009060031006947$$"
   ]
  },
  {
   "cell_type": "markdown",
   "id": "aa95e96f",
   "metadata": {},
   "source": [
    "---\n"
   ]
  },
  {
   "cell_type": "markdown",
   "id": "b15aed00",
   "metadata": {},
   "source": [
    "## Determine the values of n and h required to approximate $\\int_0^2 \\frac{1}{x+4} dx$ to within $10^{-5}$"
   ]
  },
  {
   "cell_type": "markdown",
   "id": "3f0ffb54",
   "metadata": {},
   "source": [
    "### Composite Trapezoidal Rule\n",
    "\n",
    "Recall that the error term for this rule is:\n",
    "$$\\frac{b-a}{12}h^2 f'' (\\mu)$$\n",
    "\n",
    "where $\\mu \\in (a,b)$\n",
    "\n",
    "$$f(x) =  \\frac{1}{x+4}$$\n",
    "\n",
    "$$f'(x) = -\\frac{1}{(x+4)^2}$$\n",
    "\n",
    "$$f''(x) = \\frac{2}{(x+4)^3}$$\n",
    "\n",
    "Since $\\mu \\in (0,2)$,\n",
    "\n",
    "$$|\\frac{1}{6} h^2 f''(\\mu)| < \\frac{1}{6} h^2 f(0) = \\frac{1}{6} h^2 \\frac{2}{4^3}$$\n",
    "\n",
    "$$|\\frac{1}{6} h^2 f''(\\mu)| < \\frac{1}{6} h^2 \\frac{2}{64} = \\frac{2}{384} h^2$$\n",
    "\n",
    "\n",
    "Thus, solving for \n",
    "\n",
    "$$ \\frac{2}{384} h^2 < 10^{-5}$$\n",
    "\n",
    "$$h^2 < \\frac{384}{10^5 \\times 2}$$\n",
    "\n",
    "$$h < \\sqrt{\\frac{384}{10^5 \\times 2}}$$\n"
   ]
  },
  {
   "cell_type": "code",
   "execution_count": null,
   "id": "77b58272",
   "metadata": {},
   "outputs": [],
   "source": []
  },
  {
   "cell_type": "code",
   "execution_count": 97,
   "id": "c224ec30",
   "metadata": {},
   "outputs": [
    {
     "data": {
      "text/plain": [
       "0.04381780460041329"
      ]
     },
     "execution_count": 97,
     "metadata": {},
     "output_type": "execute_result"
    }
   ],
   "source": [
    "(384/((10**5) * 2))**0.5"
   ]
  },
  {
   "cell_type": "markdown",
   "id": "a0a977b7",
   "metadata": {},
   "source": [
    "$$h < 0.04381780460041329$$\n",
    "\n",
    "Recall that\n",
    "\n",
    "$$h = \\frac{b-a}{n}$$\n",
    "\n",
    "$$h = \\frac{2}{n} < 0.04381780460041329$$\n",
    "\n",
    "$$n > \\frac{2}{0.04381780460041329}$$"
   ]
  },
  {
   "cell_type": "code",
   "execution_count": 98,
   "id": "e9bf6818",
   "metadata": {},
   "outputs": [
    {
     "data": {
      "text/plain": [
       "45.64354645876384"
      ]
     },
     "execution_count": 98,
     "metadata": {},
     "output_type": "execute_result"
    }
   ],
   "source": [
    "2/0.04381780460041329"
   ]
  },
  {
   "cell_type": "markdown",
   "id": "c95340a9",
   "metadata": {},
   "source": [
    "$$n > 45.64354645876384$$\n",
    "$$n \\geq 46$$"
   ]
  },
  {
   "cell_type": "markdown",
   "id": "b9b88900",
   "metadata": {},
   "source": [
    "---\n",
    "\n",
    "### Composite Simpson's Rule\n",
    "\n",
    "Recall that the error term for this rule is:\n",
    "\n",
    "$$\\frac{b-a}{180}h^4 f^{(4)}(\\mu)$$\n",
    "\n",
    "where $\\mu \\in (a,b)$\n",
    "\n",
    "$$f^{(3)}(x) = \\frac{-6}{(x+4)^4}$$\n",
    "\n",
    "$$f^{(4)}(x) = \\frac{24}{(x+4)^5}$$\n",
    "\n",
    "$$|\\frac{2}{180}h^4 f^{(4)}(\\mu)| < \\frac{2}{180}h^4 \\frac{24}{4^6}$$\n",
    "\n",
    "$$|\\frac{2}{180}h^4 f^{(4)}(\\mu)| < \\frac{2}{180}h^4 \\frac{24}{4096}$$\n",
    "\n",
    "$$|\\frac{2}{180}h^4 f^{(4)}(\\mu)| < \\frac{48}{737280} h^4$$\n",
    "\n",
    "Solving for:\n",
    "\n",
    "$$\\frac{48}{737280} h^4 < \\frac{1}{10^5}$$\n",
    "\n",
    "$$h^4 < \\frac{737280}{48 \\times 10^5}$$\n",
    "\n",
    "$$h < (\\frac{737280}{48 \\times 10^5})^{1/4}$$"
   ]
  },
  {
   "cell_type": "code",
   "execution_count": null,
   "id": "988dcc1b",
   "metadata": {},
   "outputs": [
    {
     "data": {
      "text/plain": [
       "0.626033832029315"
      ]
     },
     "execution_count": 104,
     "metadata": {},
     "output_type": "execute_result"
    }
   ],
   "source": [
    "(737280/(48 * (10**5))) ** (1/4)"
   ]
  },
  {
   "cell_type": "markdown",
   "id": "e949583d",
   "metadata": {},
   "source": [
    "$$h < 0.626033832029315$$\n",
    "\n",
    "$$h = \\frac{b-a}{n} = \\frac{2}{n} < 0.626033832029315$$\n",
    "\n",
    "$$n > \\frac{2}{0.626033832029315}$$"
   ]
  },
  {
   "cell_type": "code",
   "execution_count": 105,
   "id": "a00ec49e",
   "metadata": {},
   "outputs": [
    {
     "data": {
      "text/plain": [
       "3.194715521231362"
      ]
     },
     "execution_count": 105,
     "metadata": {},
     "output_type": "execute_result"
    }
   ],
   "source": [
    "2/0.626033832029315"
   ]
  },
  {
   "cell_type": "markdown",
   "id": "91bd4ec0",
   "metadata": {},
   "source": [
    "$$n>3.194715521231362$$\n",
    "\n",
    "$$n \\geq 4$$\n",
    "\n",
    "---"
   ]
  },
  {
   "cell_type": "markdown",
   "id": "e596c408",
   "metadata": {},
   "source": [
    "### Composite Midpoint Rule\n",
    "\n",
    "Recall that this rule has an error term of:\n",
    "\n",
    "$$\\frac{b-a}{6}h^2 f''(\\mu)$$\n",
    "\n",
    "where $\\mu \\in (a,b)$\n",
    "\n",
    "$$|\\frac{2}{6} h^2 f''(\\mu)| < \\frac{1}{3}h^2 \\frac{2}{64} = \\frac{2}{192}h^2$$\n",
    "\n",
    "Solving for:\n",
    "\n",
    "$$\\frac{2}{192}h^2 < \\frac{1}{10^5}$$\n",
    "\n",
    "$$h^2 < \\frac{192}{2 \\times 10^5}$$\n",
    "\n",
    "$$h < \\sqrt{\\frac{192}{2 \\times 10^5}}$$"
   ]
  },
  {
   "cell_type": "code",
   "execution_count": 109,
   "id": "5ef46a57",
   "metadata": {},
   "outputs": [
    {
     "data": {
      "text/plain": [
       "0.030983866769659335"
      ]
     },
     "execution_count": 109,
     "metadata": {},
     "output_type": "execute_result"
    }
   ],
   "source": [
    "(192 / (2 * (10**5)))**0.5"
   ]
  },
  {
   "cell_type": "markdown",
   "id": "c0c407fa",
   "metadata": {},
   "source": [
    "$$h < 0.030983866769659335$$\n",
    "\n",
    "Recall that:\n",
    "$$h=\\frac{b-a}{n+2}$$\n",
    "\n",
    "$$h = \\frac{2}{n+2} < 0.030983866769659335$$\n",
    "\n",
    "$$n+2 > \\frac{2}{0.030983866769659335}$$\n",
    "\n",
    "$$n > \\frac{2}{0.030983866769659335} - 2$$"
   ]
  },
  {
   "cell_type": "code",
   "execution_count": 110,
   "id": "ed725e32",
   "metadata": {},
   "outputs": [
    {
     "data": {
      "text/plain": [
       "62.549722436790276"
      ]
     },
     "execution_count": 110,
     "metadata": {},
     "output_type": "execute_result"
    }
   ],
   "source": [
    "(2/0.030983866769659335) - 2"
   ]
  },
  {
   "cell_type": "markdown",
   "id": "5f5d7499",
   "metadata": {},
   "source": [
    "$$n > 62.549722436790276$$\n",
    "\n",
    "$$n \\geq 63$$\n",
    "\n",
    "---"
   ]
  },
  {
   "cell_type": "markdown",
   "id": "3cac1f58",
   "metadata": {},
   "source": [
    "Since the Guassian quarature rules are defined on the interval $[-1,1]$, we ought to transpose the interval of integration. \n",
    "\n",
    "$$x(t) = \\frac{(b-a)t + (b+a)}{2} = \\frac{(1-0)t + (1+0)}{2} = \\frac{t+1}{2}$$\n",
    "    \n",
    "Then, $dx = \\frac{b-a}{2} dt = \\frac{1}{2} dt$.\n",
    "\n",
    "Consquentyly, $f(x) = x^2 e^x$ becomes $f\\left(\\frac{t+1}{2}\\right) = \\left(\\frac{t+1}{2}\\right)^2 e^{\\frac{t+1}{2}}$.\n",
    "\n",
    "$$\\int_0^1 x^2 e^x dx = \\int_{-1}^1 f\\left(\\frac{t+1}{2}\\right) \\frac{1}{2} dt = \\int_{-1}^1 \\frac{1}{2} \\left(\\frac{t+1}{2}\\right)^2 e^{\\frac{t+1}{2}} dt$$\n",
    "\n",
    "Let $g(t) = \\frac{1}{2} \\left(\\frac{t+1}{2}\\right)^2 e^{\\frac{t+1}{2}}$.\n",
    "\n",
    "Let us now find the nodes and the wieghts for $n=2$.\n",
    "\n",
    "From the slide (Page 36), the nodes ($t_i$) and weights ($c_i$) needed for Guassian Quarature are:\n",
    "\n",
    "$t_1 = -0.5773502692$, $c_1 = 1.0$\n",
    "\n",
    "$t_2 = 0.5773502692$, $c_2 = 1.0$\n",
    "\n",
    "Recall that the formula for Guassian Quarature rule is:\n",
    "\n",
    "$$\\int_{-1}^1 g(t) dt \\approx \\sum_{i=1}^n c_i g(t_i)$$\n",
    "\n",
    "For $n=2$:\n",
    "$$\\int_{-1}^1 g(t) dt \\approx c_1 g(t_1) + c_2 g(t_2)$$"
   ]
  },
  {
   "cell_type": "code",
   "execution_count": 10,
   "id": "903fe833",
   "metadata": {},
   "outputs": [
    {
     "data": {
      "text/plain": [
       "[0.027583440137066442, 0.6843583341162582]"
      ]
     },
     "execution_count": 10,
     "metadata": {},
     "output_type": "execute_result"
    }
   ],
   "source": [
    "eq = \"0.5*(((x+1)/2)**2 )* e^(x/2) * e^(0.5)\"\n",
    "ts = [-0.5773502692, 0.5773502692]\n",
    "\n",
    "gt = [sip.eq_solver(eq, t) for t in ts]\n",
    "gt"
   ]
  },
  {
   "cell_type": "code",
   "execution_count": 11,
   "id": "79f2ceab",
   "metadata": {},
   "outputs": [
    {
     "name": "stdout",
     "output_type": "stream",
     "text": [
      "Approximation: 0.7119417742533247\n"
     ]
    }
   ],
   "source": [
    "print(\"Approximation:\", sum(gt))"
   ]
  },
  {
   "cell_type": "markdown",
   "id": "81edb78d",
   "metadata": {},
   "source": [
    "$$\\int_{-1}^1 g(t) dt \\approx \\sum_{i=1}^n c_i g(t_i) \\approx 0.7119417742533247$$\n",
    "\n",
    "---"
   ]
  },
  {
   "cell_type": "code",
   "execution_count": 13,
   "id": "79046489",
   "metadata": {},
   "outputs": [
    {
     "name": "stdout",
     "output_type": "stream",
     "text": [
      "Approximation for the double integral: 1.48462057710937\n"
     ]
    }
   ],
   "source": [
    "import numpy as np\n",
    "import math \n",
    "\n",
    "def gaussian_double_integral(a, b, c_func, d_func, f_func, x_nodes, x_weights, y_nodes, y_weights):\n",
    "    \"\"\"\n",
    "    Approximates the double integral int_a^b int_c(x)^d(x) f(x, y) dy dx\n",
    "    using iterated Gaussian quadrature.\n",
    "\n",
    "    Args:\n",
    "        a (float): Lower limit of the outer integral (x).\n",
    "        b (float): Upper limit of the outer integral (x).\n",
    "        c_func (function): Function c(x) for the lower limit of the inner integral.\n",
    "        d_func (function): Function d(x) for the upper limit of the inner integral.\n",
    "        f_func (function): The integrand function f(x, y).\n",
    "        x_nodes (list or array): Gaussian quadrature nodes for the outer (x) integral on [-1, 1].\n",
    "        x_weights (list or array): Gaussian quadrature weights for the outer (x) integral.\n",
    "        y_nodes (list or array): Gaussian quadrature nodes for the inner (y) integral on [-1, 1].\n",
    "        y_weights (list or array): Gaussian quadrature weights for the inner (y) integral.\n",
    "\n",
    "    Returns:\n",
    "        float: The approximate value of the double integral.\n",
    "    \"\"\"\n",
    "    # Determine number of points for x and y integration\n",
    "    m = len(x_nodes)\n",
    "    n = len(y_nodes)\n",
    "\n",
    "    # Step 1: Initialize h1, h2, J\n",
    "    h1 = (b - a) / 2.0  # Transformation factor for x interval\n",
    "    h2 = (b + a) / 2.0  # Shift factor for x interval\n",
    "    J = 0.0             # Initialize the total approximation\n",
    "\n",
    "    # Step 2: Outer loop (over x nodes)\n",
    "    # The pseudocode uses 1-based indexing (i=1 to m).\n",
    "    # In Python, we use 0-based indexing (i=0 to m-1).\n",
    "    for i in range(m):\n",
    "        # Step 3: Transformations for the outer node\n",
    "        # Transform the outer node (x_nodes[i]) from [-1, 1] to [a, b]\n",
    "        x = h1 * x_nodes[i] + h2\n",
    "\n",
    "        # Get the inner integral limits at this x\n",
    "        c1 = c_func(x)\n",
    "        d1 = d_func(x)\n",
    "\n",
    "        # Step 3: Transformations for the inner integral interval [c1, d1]\n",
    "        k1 = (d1 - c1) / 2.0 # Transformation factor for y interval\n",
    "        k2 = (d1 + c1) / 2.0 # Shift factor for y interval\n",
    "\n",
    "        # Step 3/4: Initialize inner sum variable\n",
    "        JX = 0.0 # Initialize the sum for the inner integral approximation\n",
    "\n",
    "        # Step 4: Inner loop (over y nodes)\n",
    "        # Loop through the nodes/weights for the inner integral (n points).\n",
    "        # The pseudocode uses 1-based indexing (j=1 to n).\n",
    "        # In Python, we use 0-based indexing (j=0 to n-1).\n",
    "        for j in range(n):\n",
    "            # Step 5: Transformation and function evaluation for the inner node\n",
    "            # Transform the inner node (y_nodes[j]) from [-1, 1] to [c1, d1]\n",
    "            y = k1 * y_nodes[j] + k2\n",
    "\n",
    "            # Evaluate the integrand at (x, y)\n",
    "            Q = f_func(x, y)\n",
    "\n",
    "            # Step 5: Accumulate inner weighted sum\n",
    "            # JX approximates the sum part of the inner integral approximation: sum(w_j * f(x_i, y_j))\n",
    "            JX = JX + y_weights[j] * Q\n",
    "\n",
    "        # Step 6: Accumulate outer weighted sum\n",
    "        # JX now holds sum(w_j * f(x_i, y_j)) for the fixed x_i.\n",
    "        # (k1 * JX) is the approximation of the inner integral at x_i.\n",
    "        # x_weights[i] is the weight for the outer integral at x_i.\n",
    "        J = J + x_weights[i] * k1 * JX\n",
    "\n",
    "    # Step 7: Final scaling by the outer integral transformation factor (b-a)/2 = h1\n",
    "    J = h1 * J\n",
    "\n",
    "    # Step 7: Output (return) the result\n",
    "    return J\n",
    "\n",
    "# --- How to use the function ---\n",
    "# You need to provide the Gaussian quadrature nodes and weights for the\n",
    "# desired number of points (m and n). These are standard values for the\n",
    "# interval [-1, 1] and can be found in tables or generated by libraries.\n",
    "# For example, using numpy:\n",
    "# from numpy.polynomial.legendre import leggauss\n",
    "# nodes_m, weights_m = leggauss(m)\n",
    "# nodes_n, weights_n = leggauss(n)\n",
    "\n",
    "# Example Gaussian Quadrature Nodes and Weights (from Page 36, rounded)\n",
    "# For n=4 (as required by the problem)\n",
    "nodes_4 = np.array([-0.8611363116, -0.3399810436, 0.3399810436, 0.8611363116])\n",
    "weights_4 = np.array([0.3478548451, 0.6521451549, 0.6521451549, 0.3478548451])\n",
    "\n",
    "# Define the specific functions for problem 4:\n",
    "# f(x, y) = x^2 + sqrt(y)\n",
    "# c(x) = 0\n",
    "# d(x) = x\n",
    "# Outer limits: a=1, b=1.5\n",
    "# m=4, n=4\n",
    "\n",
    "def c_func_q4(x):\n",
    "    return 0.0\n",
    "\n",
    "def d_func_q4(x):\n",
    "    return x\n",
    "\n",
    "def f_func_q4(x, y):\n",
    "    # Handle potential sqrt of negative number if transformation is incorrect,\n",
    "    # but for this problem y should be >= 0 in the integration domain.\n",
    "    return x**2 + math.sqrt(y)\n",
    "\n",
    "# Example usage for problem 4 with m=4 and n=4:\n",
    "Approximation = gaussian_double_integral(1.0, 1.5, c_func_q4, d_func_q4, f_func_q4, nodes_4, weights_4, nodes_4, weights_4)\n",
    "print(f\"Approximation for the double integral: {Approximation}\")"
   ]
  },
  {
   "cell_type": "code",
   "execution_count": 2,
   "id": "25f20c36",
   "metadata": {},
   "outputs": [],
   "source": [
    "import math\n",
    "import regex\n",
    "import pandas as pd\n",
    "\n",
    "class Sipnayan:\n",
    "    def __init__(self, math_object, regex, pd):\n",
    "        self.math_object = math_object\n",
    "        self.reg = regex\n",
    "        self.pd = pd\n",
    "\n",
    "    def number_solver(self, equation):\n",
    "        return eval(equation)\n",
    "    \n",
    "    def eq_solver(self, equation, var_val, var=\"x\"):\n",
    "        \"\"\"\"var != e\n",
    "        Note to future romand: make varaible a list instead for equations beyond 2d\n",
    "        \"\"\"\n",
    "        # print(f\"Original: {equation}\")\n",
    "        equation = equation.replace(var, str(var_val))\n",
    "        # print(f\"Parsed: {equation}\")\n",
    "        # Check for other variable other than specified var\n",
    "        if (self.check_for_other_var(equation, var)):\n",
    "            return f\"Letters detected aside from independent variable ({var})\"\n",
    "        operations = [\"e\", \"cos\", \"sin\", \"tan\", \"ln\"]\n",
    "        if any(operation in equation for operation in operations):\n",
    "            return eval(self.nested_handler(equation))\n",
    "        return self.number_solver(equation)\n",
    "\n",
    "    def trigo(self, trig_op, arg):\n",
    "        match str(trig_op):\n",
    "            case \"cos\":\n",
    "                return self.math_object.cos(arg)\n",
    "            case \"sin\":\n",
    "                return self.math_object.sin(arg)\n",
    "            case \"tan\":\n",
    "                return self.math_object.tan(arg)\n",
    "            case default:\n",
    "                return \"invalid argument\"\n",
    "                \n",
    "    def exp_solve(self, arg):\n",
    "        \"\"\"For e^x with x as arg\"\"\"\n",
    "        return self.math_object.exp(arg)\n",
    "\n",
    "    def ln_solve(self, arg):\n",
    "        return self.math_object.log(arg)\n",
    "    \n",
    "    def nested_handler(self, equation):\n",
    "        operations = [\"e\\\\^\", \"cos\", \"sin\", \"tan\", \"ln\"]\n",
    "        ops = [\"e\", \"cos\", \"sin\", \"tan\", \"ln\"]\n",
    "        # print(f\"Processing equation: {equation}\")\n",
    "        \n",
    "        pat = rf'({\"|\".join(operations)})\\(((?:[^\\(\\)]+|(?R))*)\\)'\n",
    "        # print(f\"Regex pattern: {pat}\")\n",
    "        \n",
    "        while any(operation in equation for operation in ops):\n",
    "            match = regex.search(pat, equation)\n",
    "            if not match:\n",
    "                break\n",
    "\n",
    "            opp = match.group(1)\n",
    "            ovr_expression = match.group(0)  \n",
    "            argument = match.group(2) \n",
    "            # print(f\"Matched operation: {ovr_expression}, Argument: {argument}\")\n",
    "    \n",
    "            if any(operation in argument for operation in ops):\n",
    "                argument = self.nested_handler(argument)\n",
    "    \n",
    "            equation = self.special_operations(opp, ovr_expression, argument, equation)\n",
    "            # print(f\"Updated equation: {equation}\")\n",
    "        \n",
    "        return equation\n",
    "            \n",
    "    def special_operations(self, opp, ovr_expression, argument, equation):\n",
    "        # print(f\"Processing {opp} with argument: {argument}\")\n",
    "        try:\n",
    "            if \"e\" in opp:\n",
    "                result = self.exp_solve(eval(argument))\n",
    "            elif \"ln\" in opp:\n",
    "                result = self.ln_solve(eval(argument))\n",
    "            else:\n",
    "                result = self.trigo(opp, eval(argument))\n",
    "        except Exception as e:\n",
    "            print(f\"Error in {opp}: {e}\")\n",
    "            return equation\n",
    "    \n",
    "        updated_equation = equation.replace(ovr_expression, str(result))\n",
    "        return updated_equation\n",
    "\n",
    "\n",
    "\n",
    "    def check_for_other_var(self, equation, var):\n",
    "        remove = ['cos', 'sin', 'tan', 'e', \"ln\"]\n",
    "        for opp in remove:\n",
    "            equation = equation.replace(opp,\"\")\n",
    "        for i in equation:\n",
    "            if i.isalpha() and i != var:\n",
    "                return True\n",
    "        return False\n",
    "\n",
    "sip = Sipnayan(math, regex, pd)"
   ]
  }
 ],
 "metadata": {
  "kernelspec": {
   "display_name": "venv",
   "language": "python",
   "name": "venv"
  },
  "language_info": {
   "codemirror_mode": {
    "name": "ipython",
    "version": 3
   },
   "file_extension": ".py",
   "mimetype": "text/x-python",
   "name": "python",
   "nbconvert_exporter": "python",
   "pygments_lexer": "ipython3",
   "version": "3.12.3"
  }
 },
 "nbformat": 4,
 "nbformat_minor": 5
}
