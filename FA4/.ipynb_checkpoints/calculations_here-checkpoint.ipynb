{
 "cells": [
  {
   "cell_type": "code",
   "execution_count": 1,
   "metadata": {},
   "outputs": [],
   "source": [
    "given = [-4.827866,-4.240058,-3.496909,-2.596792]"
   ]
  },
  {
   "cell_type": "markdown",
   "metadata": {},
   "source": [
    "f(2.9)"
   ]
  },
  {
   "cell_type": "code",
   "execution_count": 2,
   "metadata": {},
   "outputs": [
    {
     "data": {
      "text/plain": [
       "5.101374999999997"
      ]
     },
     "execution_count": 2,
     "metadata": {},
     "output_type": "execute_result"
    }
   ],
   "source": [
    "first = 1/(2*0.1)\n",
    "\n",
    "second = (-3*given[0] + 4*given[1] - given[2])\n",
    "\n",
    "first*second"
   ]
  },
  {
   "cell_type": "markdown",
   "metadata": {},
   "source": [
    "f(3.0)"
   ]
  },
  {
   "cell_type": "code",
   "execution_count": 3,
   "metadata": {},
   "outputs": [
    {
     "data": {
      "text/plain": [
       "6.646650000000001"
      ]
     },
     "execution_count": 3,
     "metadata": {},
     "output_type": "execute_result"
    }
   ],
   "source": [
    "\n",
    "first = 1/(2*0.1)\n",
    "\n",
    "second = (-3*given[1] + 4*given[2] - given[3])\n",
    "\n",
    "first*second"
   ]
  },
  {
   "cell_type": "code",
   "execution_count": 9,
   "metadata": {},
   "outputs": [
    {
     "data": {
      "text/plain": [
       "6.654785"
      ]
     },
     "execution_count": 9,
     "metadata": {},
     "output_type": "execute_result"
    }
   ],
   "source": [
    "\n",
    "first = 1/(2*0.1)\n",
    "\n",
    "second = (given[2] - given[0] )\n",
    "\n",
    "first*second"
   ]
  },
  {
   "cell_type": "markdown",
   "metadata": {},
   "source": [
    "f(3.1)"
   ]
  },
  {
   "cell_type": "code",
   "execution_count": 8,
   "metadata": {},
   "outputs": [
    {
     "data": {
      "text/plain": [
       "8.208195000000007"
      ]
     },
     "execution_count": 8,
     "metadata": {},
     "output_type": "execute_result"
    }
   ],
   "source": [
    "\n",
    "first = 1/(2*0.1)\n",
    "\n",
    "second = (3*given[2] - 4*given[1] + given[0])\n",
    "\n",
    "first*second"
   ]
  },
  {
   "cell_type": "code",
   "execution_count": 10,
   "metadata": {},
   "outputs": [
    {
     "data": {
      "text/plain": [
       "8.216330000000001"
      ]
     },
     "execution_count": 10,
     "metadata": {},
     "output_type": "execute_result"
    }
   ],
   "source": [
    "\n",
    "first = 1/(2*0.1)\n",
    "\n",
    "second = (given[3] - given[1] )\n",
    "\n",
    "first*second"
   ]
  },
  {
   "cell_type": "markdown",
   "metadata": {},
   "source": [
    "f(3.2)"
   ]
  },
  {
   "cell_type": "code",
   "execution_count": 11,
   "metadata": {},
   "outputs": [
    {
     "data": {
      "text/plain": [
       "9.786009999999997"
      ]
     },
     "execution_count": 11,
     "metadata": {},
     "output_type": "execute_result"
    }
   ],
   "source": [
    "\n",
    "first = 1/(2*0.1)\n",
    "\n",
    "second = (3*given[3] - 4*given[2] + given[1])\n",
    "\n",
    "first*second"
   ]
  },
  {
   "cell_type": "code",
   "execution_count": 12,
   "metadata": {},
   "outputs": [
    {
     "data": {
      "text/plain": [
       "36.500000000021515"
      ]
     },
     "execution_count": 12,
     "metadata": {},
     "output_type": "execute_result"
    }
   ],
   "source": [
    "10000*(13.78176-2*14.04276+14.30741)"
   ]
  }
 ],
 "metadata": {
  "kernelspec": {
   "display_name": "venv",
   "language": "python",
   "name": "venv"
  },
  "language_info": {
   "codemirror_mode": {
    "name": "ipython",
    "version": 3
   },
   "file_extension": ".py",
   "mimetype": "text/x-python",
   "name": "python",
   "nbconvert_exporter": "python",
   "pygments_lexer": "ipython3",
   "version": "3.12.3"
  }
 },
 "nbformat": 4,
 "nbformat_minor": 2
}
