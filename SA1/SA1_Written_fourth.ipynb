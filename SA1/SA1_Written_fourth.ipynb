{
 "cells": [
  {
   "cell_type": "markdown",
   "id": "7273e9ff-bd40-42f1-8467-4f47ec3ab2bf",
   "metadata": {},
   "source": [
    "### Construct the Lagrange interpolating polynomials for $f(x) = \\sin(\\ln x)$ given $x_0 = 2.0$, $x_1 = 2.4$, $x_2 = 2.6$, $n = 2$.\n",
    "\n",
    "$$f(x_0) = f(2.0) = \\sin(\\ln(2.0))   \\approx 0.639$$\n",
    "\n",
    "$$f(x_1) = f(2.4) = \\sin(\\ln(2.4))  \\approx 0.7678$$\n",
    "\n",
    "$$f(x_2) = f(2.6) = \\sin(\\ln(2.6)) \\approx 0.8166$$\n",
    "\n",
    "$$\n",
    "\\begin{align}\n",
    "L_0(x) &= \\frac{(x - x_1)(x - x_2)}{(x_0 - x_1)(x_0 - x_2)} \\\\\n",
    "&= \\frac{(x - 2.4)(x - 2.6)}{(2.0 - 2.4)(2.0 - 2.6)}\\\\\n",
    "&=\\frac{(x - 2.4)(x - 2.6)}{0.24}\n",
    "\\end{align}\n",
    "$$\n",
    "\n",
    "$$\n",
    "\\begin{align}\n",
    "L_1(x) &=  \\frac{(x - x_0)(x - x_2)}{(x_1 - x_0)(x_1 - x_2)} \\\\\n",
    "&= \\frac{(x - 2.0)(x - 2.6)}{(2.4 - 2.0)(2.4 - 2.6)} \\\\\n",
    "&=\\frac{(x - 2.0)(x - 2.6)}{-0.08}\n",
    "\\end{align}\n",
    "$$\n",
    "\n",
    "$$\n",
    "\\begin{align}\n",
    "L_2(x) &=  \\frac{(x - x_0)(x - x_1)}{(x_2 - x_0)(x_2 - x_1)} \\\\\n",
    "&=  \\frac{(x - 2.0)(x - 2.4)}{(2.6 - 2.0)(2.6 - 2.4)} \\\\\n",
    "&=\\frac{(x - 2.0)(x - 2.4)}{0.12}\n",
    "\\end{align}\n",
    "$$\n",
    "\n",
    "The complete Lagrange interpolating polynomial is:\n",
    "\n",
    "$$P(x) = L_0(x) \\cdot f(x_0) + L_1(x) \\cdot f(x_1) + L_2(x) \\cdot f(x_2)$$\n",
    "\n",
    "$$P(x) = \\frac{(x - 2.4)(x - 2.6)}{0.24} \\cdot 0.639 + \\frac{(x - 2.0)(x - 2.6)}{-0.08} \\cdot 0.7678 + \\frac{(x - 2.0)(x - 2.4)}{0.12} \\cdot 0.8166$$"
   ]
  }
 ],
 "metadata": {
  "kernelspec": {
   "display_name": "venv",
   "language": "python",
   "name": "venv"
  },
  "language_info": {
   "codemirror_mode": {
    "name": "ipython",
    "version": 3
   },
   "file_extension": ".py",
   "mimetype": "text/x-python",
   "name": "python",
   "nbconvert_exporter": "python",
   "pygments_lexer": "ipython3",
   "version": "3.12.3"
  }
 },
 "nbformat": 4,
 "nbformat_minor": 5
}
