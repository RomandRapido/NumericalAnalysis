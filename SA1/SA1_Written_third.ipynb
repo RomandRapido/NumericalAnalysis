{
 "cells": [
  {
   "cell_type": "markdown",
   "id": "c9d7156e-c9e6-4006-b701-8be969952021",
   "metadata": {},
   "source": [
    "### Show that for any positive integer k, the sequence $p_n = \\frac{1}{n^k}$ converges linearly to $p=0$.\n",
    "\n",
    "$$\n",
    "\\begin{align}\n",
    "\\lim_{n \\to \\infty} \\frac{|p_{n+1} - p|}{|p_n - p |^\\alpha} &=  \\lim_{n \\to \\infty} \\frac{|\\frac{1}{(n+1)^k } - 0|}{|\\frac{1}{n^k} - 0|^\\alpha} \\\\\n",
    "&= \\lim_{n \\to \\infty} \\frac{1/(n+1)^k}{1/n^k} \\quad \\quad \\text{set} \\ \\alpha = 1 \\\\\n",
    "&= \\lim_{n \\to \\infty} \\frac{1}{(n+1)^k} \\cdot \\frac{n^k}{1} \\\\\n",
    "&= \\lim_{n \\to \\infty} (\\frac{n}{n+1})^k = 1 = \\lambda\n",
    "\\end{align}\n",
    "$$\n",
    "\n",
    "Strictly speaking, $p_n$ DOES NOT converge linearly to $p=0$ because $0 < \\lambda < 1$. The more accurate type of convergence for $\\alpha=1$ and $\\lambda = 1$ would be *sublinear convergence* whereas $p_n$ converges to an even slower degree than that of linearly convergence ([reference](https://math.stackexchange.com/questions/4022710/confusion-about-linear-convergence))."
   ]
  }
 ],
 "metadata": {
  "kernelspec": {
   "display_name": "venv",
   "language": "python",
   "name": "venv"
  },
  "language_info": {
   "codemirror_mode": {
    "name": "ipython",
    "version": 3
   },
   "file_extension": ".py",
   "mimetype": "text/x-python",
   "name": "python",
   "nbconvert_exporter": "python",
   "pygments_lexer": "ipython3",
   "version": "3.12.3"
  }
 },
 "nbformat": 4,
 "nbformat_minor": 5
}
